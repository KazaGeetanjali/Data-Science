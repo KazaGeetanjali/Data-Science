{
 "cells": [
  {
   "cell_type": "markdown",
   "metadata": {},
   "source": [
    "## Outline\n",
    "\n",
    "This week, we take a deeper dive into basic data types in Python,\n",
    "conditional statements and loops, and simple function definitions.\n",
    "\n",
    "- Expressions\n",
    "- Strings\n",
    "- Assignments and Bindings\n",
    "- Function definitions (basics)\n",
    "- `if-elif-else` statements\n",
    "- `for` loops\n",
    "- `while` loops\n",
    "\n"
   ]
  },
  {
   "cell_type": "markdown",
   "metadata": {},
   "source": [
    "## Bookmark these sites!\n",
    "\n",
    "The official [Python Documentation](https://docs.python.org/3/index.html). From here you can navigate to:\n",
    "\n",
    "- The [Python Tutorial](https://docs.python.org/3/tutorial/index.html)\n",
    "\n",
    "- The [Python Standard Library](https://docs.python.org/3/library/index.html)\n",
    "\n",
    "- The [Python Module Index](https://docs.python.org/3/py-modindex.html)\n",
    "\n"
   ]
  },
  {
   "cell_type": "markdown",
   "metadata": {},
   "source": [
    "## Expressions\n",
    "\n",
    "Expressions are composed from variables, values and **operators**. Some examples of operators are:\n",
    "\n",
    "- Arithmetic operators: `+`, `-`, `/` (true division), `//` (integer division leaving a quotient), `*`, `%` (remainder in integer division) etc.\n",
    "\n",
    "- Logical operators: `and`, `or`, `not` etc.\n",
    "\n",
    "- Sequence operators: `[]` (indexing or slicing), `+` (concatenation), `*` (replication) etc.\n",
    "\n",
    "- Call expressions: using previously defined **functions**.\n",
    "\n",
    "::: {.callout-note}\n",
    "Datatypes are implemented in Python as **classes**.\n",
    "Functions that are associated with a datatype value are called **methods**.\n",
    ":::\n",
    "\n"
   ]
  },
  {
   "cell_type": "code",
   "execution_count": 5,
   "metadata": {},
   "outputs": [
    {
     "data": {
      "text/plain": [
       "False"
      ]
     },
     "execution_count": 5,
     "metadata": {},
     "output_type": "execute_result"
    }
   ],
   "source": [
    "a = 10\n",
    "not (a == 10)"
   ]
  },
  {
   "cell_type": "markdown",
   "metadata": {},
   "source": [
    "### Exercise: Leap Year Calculation\n",
    "\n",
    "A year is a **leap** year if it is divisible by 4 but not divisible by 100 unless it is divisible by 400. For instance, 2004 is a leap year, 1900 is not, but 2000 is.\n",
    "\n",
    "Suppose that a variable `year` holds an integer that represents a year. Construct an expression that would be true if and only if `year` is a leap year."
   ]
  },
  {
   "cell_type": "code",
   "execution_count": 1,
   "metadata": {},
   "outputs": [],
   "source": [
    "# Ask user to input a year and store the integer in variable `year`\n",
    "year = int(input(\"Enter a year (as a non-negative integer): \"))\n",
    "\n",
    "# Construct the expression for `year` being a leap year\n",
    "\n",
    "(year % 4 == 0) and (year % 100 != 0) or (year % 400 == 0)\n"
   ]
  },
  {
   "cell_type": "markdown",
   "metadata": {},
   "source": [
    "## Expression Evaluation\n",
    "\n",
    "The Python interpreter **evaluates** expressions in the context of an **environment**.\n",
    "\n",
    "> **Environment:** Collection of **bindings** of names to values.\n",
    "\n",
    "Python's environment is **dynamic**: every added definition or assignment changes it!\n",
    "\n",
    "All **builtin** bindings (e.g., functions like `len`, `bin`, `str`, `int`) are available to the interpreter in the **main environment**.\n",
    "\n",
    "## Strings\n",
    "\n",
    "Python's strings are **Unicode** strings: symbols from all known languages, glyphs and synthesized symbols can be used in a Python string! For instance: `'\\u03C0'`, `'\\U0001f644'`\n",
    "\n",
    "Internally, strings are **encoded** into bytes, e.g., using the UTF-8 encoding. Printing a string involves **decoding** the string.\n",
    "\n",
    "::: {.callout-note}\n",
    "Data can occur in all kinds of formats/encodings. It is important to understand\n",
    "some of the history of encodings: even if you might not understand some of the\n",
    "details, please check out\n",
    "[Ned Batchelder's PyCon 2012 presentation](https://youtu.be/sgHbC6udIqc) on\n",
    "Unicode in Python.\n",
    ":::\n",
    "\n",
    "- **Immutable**: Operations on string operands create *new* strings.\n",
    "\n",
    "Examples of string operations: length, concatenation, replication, indexing, slicing.\n",
    "\n",
    "### Exercise"
   ]
  },
  {
   "cell_type": "code",
   "execution_count": 6,
   "metadata": {},
   "outputs": [
    {
     "data": {
      "text/plain": [
       "4"
      ]
     },
     "execution_count": 6,
     "metadata": {},
     "output_type": "execute_result"
    }
   ],
   "source": [
    "# Start with the string x whose value is 'Data '.\n",
    "\n",
    "x = \"Data\"\n",
    "\n",
    "# Find its length.\n",
    "\n",
    "len(x)"
   ]
  },
  {
   "cell_type": "code",
   "execution_count": 7,
   "metadata": {},
   "outputs": [
    {
     "data": {
      "text/plain": [
       "'Data ScienceData ScienceData ScienceData ScienceData Science'"
      ]
     },
     "execution_count": 7,
     "metadata": {},
     "output_type": "execute_result"
    }
   ],
   "source": [
    "# Obtain the string y with value 'Data Science' from x\n",
    "\n",
    "y = x + ' Science'\n",
    "\n",
    "# Replicate y 5 times\n",
    "\n",
    "y*5"
   ]
  },
  {
   "cell_type": "code",
   "execution_count": 8,
   "metadata": {},
   "outputs": [],
   "source": [
    "# Find the index of the second occurrence of 'a' in y\n",
    "\n",
    "# Find the string made up of every other character from y"
   ]
  },
  {
   "cell_type": "code",
   "execution_count": 10,
   "metadata": {},
   "outputs": [],
   "source": [
    "y = x + ' Science'"
   ]
  },
  {
   "cell_type": "markdown",
   "metadata": {},
   "source": [
    "A **program** in Python is a sequence of statements that are evaluated from top to bottom.\n",
    "\n",
    "::: {.callout-important}\n",
    "Evaluation of a statement causes one or more of the following effects:\n",
    "\n",
    "- change in state of existing variable(s): **new binding(s)**\n",
    "- addition of new variables to the current environment's namespace: **new definitions**\n",
    "- creation of a **new frame** as a result of a **function call**\n",
    ":::"
   ]
  },
  {
   "cell_type": "markdown",
   "metadata": {},
   "source": [
    "## Assignment Statement\n",
    "\n",
    "::: {.callout-tip}\n",
    "Use the [Python Tutor](www.pythontutor.com) website to visualize the **binding** of values to names in a Python code snippet!\n",
    ":::\n",
    "\n",
    "- Assignments bind names to values\n",
    "\n",
    "- Binding is **dynamic**: the type of a value always remains unchanged, but the same name may refer to different values (and hence different types) at different times during the program execution."
   ]
  },
  {
   "cell_type": "markdown",
   "metadata": {},
   "source": [
    "### Exercise\n",
    "\n",
    "Compute the approximate acceleration of gravity for an object above the earth's surface, assigning `accel_gravity` with the result. The expression for the acceleration of gravity is: $(G \\cdot M) / (d^2)$, where $G$ is the gravitational constant $6.673 \\times 10^{-11}$, $M$ is the mass of the earth $5.98 \\times 10^{24}$ (in kg), and $d$ is the distance in meters from the Earth's center (stored in variable `dist_center`).\n",
    "\n",
    "Your code should ask for the distance to be entered as input, and should print the acceleration accurate to 2 decimal places."
   ]
  },
  {
   "cell_type": "code",
   "execution_count": 1,
   "metadata": {},
   "outputs": [
    {
     "name": "stdin",
     "output_type": "stream",
     "text": [
      "Enter distance from Earth's center in meters:  6371000\n"
     ]
    },
    {
     "name": "stdout",
     "output_type": "stream",
     "text": [
      "9.831212845661778\n"
     ]
    }
   ],
   "source": [
    "G = 6.673 * 10**(-11)  # in N m^2/ kg^2\n",
    "M = 5.98 * 10**24  # in kg\n",
    "R = 6.371 * 10**6  # approximate radius of the earth in m\n",
    "\n",
    "dist_center = float(input(\"Enter distance from Earth's center in meters: \"))\n",
    "print (G * M/(dist_center**2))\n"
   ]
  },
  {
   "cell_type": "markdown",
   "metadata": {},
   "source": [
    "## `import` statement\n",
    "\n",
    "Main purpose:  augment the *current namespace* with additional name bindings obtained from the module being imported.\n",
    "\n",
    "- add definitions of constants, functions and data types (classes) from built-in Python libraries\n",
    "\n",
    "- add auxiliary code developed for an application\n",
    "\n",
    "::: {.callout-warning}\n",
    "Avoid **namespace pollution**: use qualified names via **dot** notation,\n",
    "e.g., `math.pi`\n",
    ":::"
   ]
  },
  {
   "cell_type": "markdown",
   "metadata": {},
   "source": [
    "### Exercise\n",
    "\n",
    "Import the `fractions` module.\n",
    "\n",
    "- Use the `dir` builtin function to see what is defined in the module\n",
    "\n",
    "- Use the `help` builtin function to get **documentation** on a specific definition, e.g. the `fractions.Fraction` datatype\n",
    "\n",
    "- Experiment with different operations on fractions"
   ]
  },
  {
   "cell_type": "code",
   "execution_count": 14,
   "metadata": {},
   "outputs": [],
   "source": [
    "import fractions"
   ]
  },
  {
   "cell_type": "code",
   "execution_count": 15,
   "metadata": {},
   "outputs": [
    {
     "data": {
      "text/plain": [
       "['Decimal',\n",
       " 'Fraction',\n",
       " '_PyHASH_INF',\n",
       " '_PyHASH_MODULUS',\n",
       " '_RATIONAL_FORMAT',\n",
       " '__all__',\n",
       " '__builtins__',\n",
       " '__cached__',\n",
       " '__doc__',\n",
       " '__file__',\n",
       " '__loader__',\n",
       " '__name__',\n",
       " '__package__',\n",
       " '__spec__',\n",
       " 'math',\n",
       " 'numbers',\n",
       " 'operator',\n",
       " 're',\n",
       " 'sys']"
      ]
     },
     "execution_count": 15,
     "metadata": {},
     "output_type": "execute_result"
    }
   ],
   "source": [
    "dir(fractions)"
   ]
  },
  {
   "cell_type": "code",
   "execution_count": 17,
   "metadata": {},
   "outputs": [
    {
     "data": {
      "text/plain": [
       "Fraction(7, 22)"
      ]
     },
     "execution_count": 17,
     "metadata": {},
     "output_type": "execute_result"
    }
   ],
   "source": [
    "f = fractions.Fraction(22, 7)\n",
    "1/f"
   ]
  },
  {
   "cell_type": "markdown",
   "metadata": {},
   "source": [
    "## Function Definition\n",
    "\n",
    "Encapsulates a piece of computation whose outcome (**return value**)\n",
    "depends on the supplied inputs (**parameters** or **arguments**)\n",
    "\n",
    "Separation of code into functional units allows us to:\n",
    "\n",
    "- **compose** functions in a *modular* fashion\n",
    "- create clean interfaces between parts of code\n",
    "- practice the **DRY** principle (Don't repeat yourself)\n",
    "- **test** code in small, manageable units"
   ]
  },
  {
   "cell_type": "markdown",
   "metadata": {},
   "source": []
  },
  {
   "cell_type": "markdown",
   "metadata": {},
   "source": []
  },
  {
   "cell_type": "markdown",
   "metadata": {},
   "source": [
    "### Exercise\n",
    "\n",
    "- Define a function that computes the hypotenuse of a right-angle triangle given its legs by using the Pythagorean theorem.\n",
    "\n",
    "- Follow documentation guidelines: create a **docstring**\n",
    "\n",
    "- Use the `doctest` module to create simple tests for the function within the docstring.\n",
    "\n",
    "::: {.callout-notes}\n",
    "1. The `pass` statement is a **placeholder** and does nothing!\n",
    "\n",
    "2. Never test two real (i.e. `float`) values for equality! Use `math.isclose` instead.\n",
    ":::"
   ]
  },
  {
   "cell_type": "code",
   "execution_count": 20,
   "metadata": {},
   "outputs": [],
   "source": [
    "import math\n",
    "\n",
    "def hypotenuse(leg_1, leg_2):\n",
    "    \"\"\"Returns the hypotenuse of a right triangle using Pythagoras' theorem.\n",
    "\n",
    "    Args:\n",
    "        leg_1 (float): first leg\n",
    "        leg_2 (float): second leg\n",
    "\n",
    "    Returns:\n",
    "        float: hypotenuse\n",
    "\n",
    "    >>> math.isclose(hypotenuse(3, 4), 5)\n",
    "    True\n",
    "    >>> hypotenuse(12, 5) > 15\n",
    "    False\n",
    "    \"\"\"\n",
    "    return math.sqrt(leg_1 ** 2 + leg_2 ** 2)"
   ]
  },
  {
   "cell_type": "code",
   "execution_count": 21,
   "metadata": {},
   "outputs": [
    {
     "data": {
      "text/plain": [
       "5.0"
      ]
     },
     "execution_count": 21,
     "metadata": {},
     "output_type": "execute_result"
    }
   ],
   "source": [
    "hypotenuse(3,4)"
   ]
  },
  {
   "cell_type": "code",
   "execution_count": 22,
   "metadata": {},
   "outputs": [],
   "source": [
    "import doctest"
   ]
  },
  {
   "cell_type": "code",
   "execution_count": 23,
   "metadata": {},
   "outputs": [
    {
     "data": {
      "text/plain": [
       "TestResults(failed=0, attempted=2)"
      ]
     },
     "execution_count": 23,
     "metadata": {},
     "output_type": "execute_result"
    }
   ],
   "source": [
    "doctest.testmod()"
   ]
  },
  {
   "cell_type": "markdown",
   "metadata": {},
   "source": [
    "## Selection statement: `if-elif-else`\n",
    "\n",
    "Sometimes referred to as a **multi-way branch**.\n",
    "\n",
    "```python\n",
    "if <condition 1>:\n",
    "    <code block 1>\n",
    "elif <condition 2>:\n",
    "    <statement block 2>\n",
    "...\n",
    "else:\n",
    "    <default code block>\n",
    "```\n",
    "\n",
    "- `<code block 1>` is **only evaluated** if `<condition 1>` is True\n",
    "\n",
    "- In general, `<code block n>` is **only evaluated** if **all** the conditions for preceding blocks are `False` and `<condition n>` is `True`\n",
    "\n",
    "- If control reaches `else`, `<default code block>` is executed.\n",
    "\n",
    "- Control flows out of the selection statement after a selected code block (or the default block) is executed."
   ]
  },
  {
   "cell_type": "markdown",
   "metadata": {},
   "source": [
    "### Exercise\n",
    "\n",
    "The surface gravity on the Moon is $1.62 ~m/s^2$; on Mars, it is $3.711 ~m/s^2$; and on Earth it is $9.807 ~m/s^2$.\n",
    "Write a Python script that\n",
    "asks the user to enter either \"Moon\", \"Earth\" or \"Mars\" at a prompt, and computes the weight in Newtons\n",
    "of a 180 lb. person on that planetary body."
   ]
  },
  {
   "cell_type": "markdown",
   "metadata": {},
   "source": [
    "## `for` Loops\n",
    "\n",
    "```python\n",
    "for <var> in <iterable collection>:\n",
    "    <code block>\n",
    "```\n",
    "- `<var>` is also called the **loop control target**.\n",
    "\n",
    "- At the start of each iteration, `<var>` is bound to the **next value** from the `<iterable collection>`. When there is no such value available, control flows out of the loop.\n",
    "\n",
    "- During the iteration, the `<code block>` of code is executed. Then control flows back to the beginning of the loop."
   ]
  },
  {
   "cell_type": "markdown",
   "metadata": {},
   "source": [
    "### Exercise\n",
    "\n",
    "Write a function that takes a non-negative integer as an argument. It should return a count of the number of even digits in the number."
   ]
  },
  {
   "cell_type": "code",
   "execution_count": 2,
   "metadata": {},
   "outputs": [],
   "source": [
    "def count_even_digits(num):\n",
    "    \"\"\"Returns number of even digits in num\n",
    "\n",
    "    Args:\n",
    "        num (int): a non-negative integer\n",
    "\n",
    "    Returns:\n",
    "        int\n",
    "    \"\"\"\n",
    "    pass"
   ]
  },
  {
   "cell_type": "markdown",
   "metadata": {},
   "source": [
    "### Exercise: Reading text files\n",
    "\n",
    "Write a program that reads a text file `alice_wonderland.txt` in the same directory as the program (e.g., the notebook). It should print the percentage of lines that mention **Alice**.\n",
    "\n",
    "::: {.callout-note}\n",
    "The builtin `open` function can be used to open a text file for reading from or writing into the file. The resulting object provides an **iterable collection** of **lines** in the file.\n",
    ":::"
   ]
  },
  {
   "cell_type": "markdown",
   "metadata": {},
   "source": [
    "## `while` loop\n",
    "\n",
    "This implements **indefinite** iteration controlled by a boolean condition (called a **predicate**):\n",
    "\n",
    "```python\n",
    "while <condition>:\n",
    "    <code block>\n",
    "```\n",
    "\n",
    "- `<condition>` is tested at the beginning of an iteration\n",
    "\n",
    "- if `True`, the iteration proceeds by executing `<code block>`. Flow of control then reverts back to beginning of the loop.\n",
    "\n",
    "- if `False`, control flows out of the loop"
   ]
  },
  {
   "cell_type": "markdown",
   "metadata": {},
   "source": [
    "## `break` and `continue` statements\n",
    "\n",
    "`break` or `continue` statements may occur inside a loop body.\n",
    "\n",
    "- `break`: Immediately **terminates** the nearest enclosing loop: if it is a `for` loop, the loop control target keeps its current value.\n",
    "\n",
    "- `continue`: Forces control to revert to the start of the next iteration of the loop."
   ]
  },
  {
   "cell_type": "markdown",
   "metadata": {},
   "source": [
    "### Exercise\n",
    "\n",
    "Define a function that takes as input parameters a text file and a string.\n",
    "The function should print the first line, if any, that contains the given string as a substring.\n",
    "It should return the number of lines read before such a line (if it exists) is found.\n",
    "\n",
    "::: {.callout-warning}\n",
    "Filenames, when written as strings, are often **paths** in the underlying operating system. It is bad practice to pass such paths to functions that expect name of files! Do so only when you know that the file is in the same directory as the program.\n",
    ":::"
   ]
  },
  {
   "cell_type": "code",
   "execution_count": 3,
   "metadata": {},
   "outputs": [],
   "source": [
    "def find_string(filename, phrase):\n",
    "    \"\"\"Returns the number of lines in the file prior to the first occurrence of phrase.\n",
    "\n",
    "    The function also prints the first line that contains the phrase\n",
    "\n",
    "    Args:\n",
    "        filename (str): name of text file in the program's directory\n",
    "        phrase (str): the phrase being searched\n",
    "\n",
    "    Returns:\n",
    "        int\n",
    "    \"\"\"\n",
    "    pass"
   ]
  },
  {
   "cell_type": "markdown",
   "metadata": {},
   "source": [
    "### Exercise\n",
    "\n",
    "Define a function that takes as argument a non-negative integer and returns the\n",
    "sum of the **individual digits** of its argument."
   ]
  },
  {
   "cell_type": "code",
   "execution_count": 4,
   "metadata": {},
   "outputs": [],
   "source": [
    "def sum_of_digits(n):\n",
    "    \"\"\"Returns the sum of the digits on n\n",
    "\n",
    "    Args:\n",
    "        n (int): non-negative integer\n",
    "\n",
    "    Returns:\n",
    "        int\n",
    "    \"\"\"\n",
    "    pass"
   ]
  },
  {
   "cell_type": "markdown",
   "metadata": {},
   "source": [
    "### Exercise\n",
    "\n",
    "From Wikipedia:\n",
    "\n",
    "> The Collatz conjecture is a conjecture in mathematics that concerns a sequence\n",
    "    defined as follows: start with any positive integer n. Then each term is obtained from\n",
    "    the previous term as follows: if the previous term is even, the next term is one half\n",
    "    of the previous term. If the previous term is odd, the next term is 3 times the previous       term plus 1. The conjecture is that no matter what value of n, the sequence\n",
    "    will always reach 1.\n",
    "\n",
    "Ask the user to input a non-negative integer $x$, and determine the length of $x$'s Collatz sequence (which starts at $x$ and ends at $1$)."
   ]
  },
  {
   "cell_type": "markdown",
   "metadata": {},
   "source": [
    "### Exercise\n",
    "\n",
    "Use the `random` module to compute the approximate value of $\\pi$.\n",
    "\n",
    "**Intution:** Throw darts randomly (but uniformly) in a square with side length 2. Count the proportion of darts that land in the **incircle** for the square (i.e., the inscribed circle)."
   ]
  },
  {
   "cell_type": "code",
   "execution_count": null,
   "metadata": {},
   "outputs": [],
   "source": []
  }
 ],
 "metadata": {
  "kernelspec": {
   "display_name": "Python 3 (ipykernel)",
   "language": "python",
   "name": "python3"
  },
  "language_info": {
   "codemirror_mode": {
    "name": "ipython",
    "version": 3
   },
   "file_extension": ".py",
   "mimetype": "text/x-python",
   "name": "python",
   "nbconvert_exporter": "python",
   "pygments_lexer": "ipython3",
   "version": "3.11.5"
  }
 },
 "nbformat": 4,
 "nbformat_minor": 4
}
