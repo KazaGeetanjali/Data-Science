{
 "cells": [
  {
   "cell_type": "markdown",
   "metadata": {},
   "source": [
    "# Session 2\n",
    "\n",
    "**Agenda:**\n",
    "\n",
    "1. Live Coding\n",
    "2. Exercises\n",
    "\n",
    "## Live Coding\n",
    "\n",
    "- Use Python shell, Jupyter notebook, and editor\n",
    "- Describe some of the data types: int, float, str, bool\n",
    "- Determine the **semi-perimeter** of a triangle with three sides\n",
    "- Use a conditional to check if the three sides actually do represent a triangle\n",
    "- Use a `for` loop to iterate over a `range`\n",
    "- A quick look at the `math` and `random` modules\n",
    "- Use a `for` loop to calculate successive approximations of $\\pi$:\n",
    "    - Archimedean approximation\n",
    "    - Madhava-Leibnitz-Gregory approximation\n",
    "- Use a `while` loop to approximate $\\pi$ with the M-L-G approximation correct to 3 decimals\n",
    "- Use a `for` loop to read lines from a text file. Count and print  the total number of characters and the total number of lines.\n",
    "\n",
    "## In-class Exercises\n",
    "\n",
    "1. Approximate $\\pi$ using the Nilakantha approximation\n",
    "2. Approximate $\\pi$ using the Monte Carlo darts method\n"
   ]
  },
  {
   "cell_type": "code",
   "execution_count": 18,
   "metadata": {},
   "outputs": [],
   "source": [
    "import math\n",
    "import random"
   ]
  },
  {
   "cell_type": "code",
   "execution_count": null,
   "metadata": {},
   "outputs": [],
   "source": []
  }
 ],
 "metadata": {
  "kernelspec": {
   "display_name": "Python 3",
   "language": "python",
   "name": "python3"
  },
  "language_info": {
   "codemirror_mode": {
    "name": "ipython",
    "version": 3
   },
   "file_extension": ".py",
   "mimetype": "text/x-python",
   "name": "python",
   "nbconvert_exporter": "python",
   "pygments_lexer": "ipython3",
   "version": "3.11.5"
  },
  "orig_nbformat": 4
 },
 "nbformat": 4,
 "nbformat_minor": 2
}
