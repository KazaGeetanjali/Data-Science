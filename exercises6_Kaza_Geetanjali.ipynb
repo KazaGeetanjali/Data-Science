{
 "cells": [
  {
   "cell_type": "markdown",
   "id": "aea5dff4-39d6-423a-b004-296c2ee23b33",
   "metadata": {},
   "source": [
    "## Exercises For Session 6\n",
    "\n",
    "Secure passwords are a first line of defense while protecting information stored on a device or stored online. Suppose we wish to device a program that validates a password through an interactive dialog. For our purposes, a valid password follows these rules:\n",
    "\n",
    "- it is at least 10 characters long\n",
    "- it contains at least one uppercase, one lowercase and one special character from among `@`, `#`, `$`, `%`, `^`, `&`, and `*`.\n",
    "- it contains at least two occurences of digits that are separated by other non-digit characters in the password.\n",
    "\n",
    "Write the following two functions with **complete docstrings** and conforming to good Python code style. \n",
    "\n",
    "1. A function `is_valid` that takes a single string-valued (formal) parameter `password` and returns `True` if the string conforms to a legal password as per our rules, or returns `False` otherwise.\n",
    "\n",
    "2. A function `dialog` with no arguments that prompts the user for a password repeatedly until a valid password is entered (this will be checked by the `is_valid` function above). Next, it asks again via a second prompt to confirm this password. If the entered string does not match the password, the function restarts the process from the first prompt. Only three tries are allowed.\n",
    "\n",
    "You may find the `string` module to be useful, so it is imported below. Make sure you test the `is_valid` function carefully by identifying the **edge** cases, i.e., inputs which skirt the line of legality (or illegality) as passwords.\n",
    "Be mindful of **spaghetti code** that is full of control-flow statements going here and there due to conditional checks!\n"
   ]
  },
  {
   "cell_type": "code",
   "execution_count": 11,
   "id": "f5017e38-ade4-452c-a63f-f227ef54b43e",
   "metadata": {},
   "outputs": [],
   "source": [
    "## Your code here\n",
    "\n",
    "import string\n",
    "SPECIAL = '@#$%^&*' #global initializing of special character(constant should be all capital letters)\n",
    "\n",
    "def is_valid(password):\n",
    "    \"\"\"Validates a password through an interactive dialog\n",
    "       \n",
    "    Args:\n",
    "        password (string): password to be validated\n",
    "   \n",
    "    Returns:\n",
    "        boolean: tells whether the password is correct or not\n",
    "    \n",
    "    >>> is_valid('Geeta22nj3ali@123')\n",
    "    True\n",
    "    >>> is_valid('Geetanjali@123')\n",
    "    False\n",
    "    >>> is_valid('Geetanjali')\n",
    "    False\n",
    "    >>> is_valid('Geetanjali.123')\n",
    "    False\n",
    "    >>> is_valid('geet@123')\n",
    "    False\n",
    "    >>> is_valid('geetanjali.123')\n",
    "    False\n",
    "    >>> is_valid('Pas5snj3ali@123')\n",
    "    True\n",
    "    \"\"\" \n",
    "        \n",
    "    password = password.strip() #removing leading and tail spaces\n",
    "    lower = upper = numeric = special_char = False\n",
    "    numeric_count = 0\n",
    "    if password == None and len(password)<=10: #checking password has a value and lenght is greater than 10\n",
    "        return False\n",
    "    else:\n",
    "        for index, i in enumerate(password):\n",
    "            if i.islower(): #checking of lower case\n",
    "                lower = True\n",
    "            elif i.isupper(): #checking of upper case\n",
    "                upper = True\n",
    "            elif i.isnumeric(): #checking of numeric value\n",
    "                y=index+1\n",
    "                if y != len(password):\n",
    "                    if password[y].isnumeric() == False:\n",
    "                        numeric_count += 1\n",
    "                        if numeric_count>=2:\n",
    "                            numeric = True\n",
    "            elif(i in SPECIAL): #checking for special characters\n",
    "                special_char = True\n",
    "    if lower == True and upper == True and numeric == True and special_char == True:\n",
    "            return True\n",
    "    else:\n",
    "        return False\n",
    "    return\n",
    "    ...\n",
    "\n",
    "def prompt():\n",
    "    \"\"\"Validates a password through an interactive dialog\n",
    "    \"\"\"\n",
    "    count = 0\n",
    "    while True:\n",
    "        prompt_password= input(\"Please enter your password: \")\n",
    "        if is_valid(prompt_password) == True: #validating whether the password is according to the parttern \n",
    "            prompt_renter_password= input(\"Please re-enter your password: \")\n",
    "            if prompt_password == prompt_renter_password: # validating the password and re-entered password are same\n",
    "                print(\"Password Verified\")\n",
    "                break\n",
    "            else:\n",
    "                count += 1\n",
    "        else:\n",
    "                count += 1\n",
    "        if(count == 3): #checking for number of attempts\n",
    "            print(\"Exceeded Maximum number of attempts\")\n",
    "            break\n",
    "    ...\n"
   ]
  },
  {
   "cell_type": "code",
   "execution_count": 12,
   "id": "52e5543a",
   "metadata": {},
   "outputs": [
    {
     "data": {
      "text/plain": [
       "TestResults(failed=0, attempted=7)"
      ]
     },
     "execution_count": 12,
     "metadata": {},
     "output_type": "execute_result"
    }
   ],
   "source": [
    "import doctest\n",
    "doctest.testmod()"
   ]
  },
  {
   "cell_type": "code",
   "execution_count": 8,
   "id": "2055dbcd-a0da-41f8-a861-370255f165dc",
   "metadata": {},
   "outputs": [
    {
     "data": {
      "text/plain": [
       "True"
      ]
     },
     "execution_count": 8,
     "metadata": {},
     "output_type": "execute_result"
    }
   ],
   "source": [
    "## Test your code here before submitting:\n",
    "\n",
    "is_valid('Geeta22nj3ali@123')"
   ]
  },
  {
   "cell_type": "code",
   "execution_count": 9,
   "id": "bd93b562-988e-4111-a6de-cd86ee6729ce",
   "metadata": {},
   "outputs": [
    {
     "name": "stdout",
     "output_type": "stream",
     "text": [
      "Please enter your password: rtreretre\n",
      "Please enter your password: 3434454\n",
      "Please enter your password: rwf35435\n",
      "Exceeded Maximum number of attempts\n"
     ]
    }
   ],
   "source": [
    "prompt()"
   ]
  },
  {
   "cell_type": "code",
   "execution_count": 10,
   "id": "44d02286",
   "metadata": {},
   "outputs": [
    {
     "name": "stdout",
     "output_type": "stream",
     "text": [
      "Please enter your password: Geeta22nj3ali@123\n",
      "Please re-enter your password: Geeta22nj3ali@123\n",
      "Password Verified\n"
     ]
    }
   ],
   "source": [
    "prompt()"
   ]
  },
  {
   "cell_type": "code",
   "execution_count": 13,
   "id": "c71152ac",
   "metadata": {},
   "outputs": [
    {
     "name": "stdout",
     "output_type": "stream",
     "text": [
      "G\n",
      "e\n",
      "e\n",
      "t\n",
      "a\n",
      "n\n",
      "j\n",
      "a\n",
      "l\n",
      "i\n"
     ]
    }
   ],
   "source": [
    "a='Geetanjali'\n",
    "for i in range(len(a)):\n",
    "    print(a[i])"
   ]
  },
  {
   "cell_type": "code",
   "execution_count": null,
   "id": "2d6009ed",
   "metadata": {},
   "outputs": [],
   "source": [
    "import session7_exercise as exr"
   ]
  },
  {
   "cell_type": "code",
   "execution_count": 14,
   "id": "d96c2926",
   "metadata": {},
   "outputs": [
    {
     "name": "stdout",
     "output_type": "stream",
     "text": [
      "G\n",
      "e\n",
      "e\n",
      "t\n",
      "a\n",
      "n\n",
      "j\n",
      "a\n",
      "l\n",
      "i\n"
     ]
    }
   ],
   "source": [
    "for char in a:\n",
    "    print(char)"
   ]
  },
  {
   "cell_type": "code",
   "execution_count": 18,
   "id": "4f07a0a5",
   "metadata": {},
   "outputs": [],
   "source": [
    "import string"
   ]
  },
  {
   "cell_type": "code",
   "execution_count": 21,
   "id": "7599cfc7",
   "metadata": {},
   "outputs": [
    {
     "data": {
      "text/plain": [
       "True"
      ]
     },
     "execution_count": 21,
     "metadata": {},
     "output_type": "execute_result"
    }
   ],
   "source": [
    "'a' in string.ascii_lowercase"
   ]
  },
  {
   "cell_type": "code",
   "execution_count": null,
   "id": "aa089e3e",
   "metadata": {},
   "outputs": [],
   "source": [
    "def is_valid(password: str):\n",
    "    cond_len = len(password) >= 10\n",
    "    if \n",
    "    cond_upper = cond_lower = cond_digit = cond_special = cond_special_sec = False\n",
    "    prev_char = ''\n",
    "    for char in password:\n",
    "        if cond_digit:\n",
    "            cond_special_sec = cond_special_sec or (char.isdigit() and not prev_char.isdigit())\n",
    "        else:\n",
    "        cond_digit = char.isdigit()\n",
    "        cond_lower = cond_lower or char.islower()\n",
    "        cond_upper = cond_upper or char.isupper()\n",
    "        cond_special = cond_special or char in SPECIAL\n",
    "        prev_char = char\n",
    "        print(cond_upper,cond_special,cond_lower,cond_special_sec,cond_digit)\n",
    "        \n",
    "    return cond_upper and cond_special and cond_lower and cond_special_sec and cond_digit\n",
    "\n",
    "if _name_ == '_main_':\n",
    "    is_valid('ladfdsfwejr')\n",
    "        "
   ]
  },
  {
   "cell_type": "code",
   "execution_count": null,
   "id": "d923ebef",
   "metadata": {},
   "outputs": [],
   "source": [
    "session %pyline session_exercise.py"
   ]
  }
 ],
 "metadata": {
  "kernelspec": {
   "display_name": "Python 3 (ipykernel)",
   "language": "python",
   "name": "python3"
  },
  "language_info": {
   "codemirror_mode": {
    "name": "ipython",
    "version": 3
   },
   "file_extension": ".py",
   "mimetype": "text/x-python",
   "name": "python",
   "nbconvert_exporter": "python",
   "pygments_lexer": "ipython3",
   "version": "3.11.4"
  }
 },
 "nbformat": 4,
 "nbformat_minor": 5
}
