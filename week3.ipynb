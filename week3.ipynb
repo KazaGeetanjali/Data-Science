{
 "cells": [
  {
   "cell_type": "raw",
   "metadata": {},
   "source": [
    "---\n",
    "title: Week 3\n",
    "---"
   ]
  },
  {
   "cell_type": "markdown",
   "metadata": {},
   "source": [
    "## Outline\n",
    "\n",
    "- Function definition (basic)\n",
    "- Formal and Actual Parameters\n",
    "- Local Variables, Scope\n",
    "- Name Resolution\n",
    "- Positional and Keyword Arguments\n",
    "- Default Parameter Values\n",
    "- Name Resolution\n",
    "- Modules\n",
    "- Module Execution\n",
    "- Python Coding Style"
   ]
  },
  {
   "cell_type": "markdown",
   "metadata": {},
   "source": [
    "## Function definition (basic)\n",
    "\n",
    "```python\n",
    "def <function name> ([<formal parameters>]):\n",
    "    [<docstring>]\n",
    "    <function body>\n",
    "```\n",
    "\n",
    "::: {.callout-note}\n",
    "Function **definitions** establish a **binding** between `<function name>`\n",
    "and un-evaluated `<function body>`. For the function to be able to participate in a\n",
    "function **call**, the body must be evaluated using the existing bindings\n",
    "of the **actual parameters** passed to the function during the call.\n",
    ":::\n",
    "\n",
    "While Python functions may seem analogous to math functions, the analogy is\n",
    "somewhat tenuous: e.g., the former can have **side-effects**\n",
    "(like `print`ing something or modifying *mutable* objects)"
   ]
  },
  {
   "cell_type": "markdown",
   "metadata": {},
   "source": [
    "## Formal Parameters Versus Actual Parameters\n",
    "\n",
    "Formal parameters are **place-holders**: in the body of the function, they\n",
    "stand in for objects that are **specified** when the function is called!\n",
    "\n",
    "The objects passed to the function call are called **actual parameters**.\n",
    "In the most common usage, actual parameters are passed **positionally**, i.e.,\n",
    "the values are assigned to the formals in left-to-right order before the\n",
    "body is executed.\n",
    "\n",
    "Informally, both formal and actual parameters are often referred to as\n",
    "**arguments** but there is a distinction: formal parameters have no values.\n",
    "\n",
    "The process of encapsulating the function body in the definition is called\n",
    "**lambda abstraction**."
   ]
  },
  {
   "cell_type": "markdown",
   "metadata": {},
   "source": [
    "## Examples\n",
    "\n",
    "1. Use lambda abstraction to create a general purpose function called\n",
    "`symmetric_in` that takes two strings as parameters and returns `True`\n",
    "if and only if one of the strings is contained in the other.\n",
    "\n",
    "2. Write a function that takes a string as argument and checks whether it is\n",
    "a **palindrome**, i.e., reads the same forwards and backwards."
   ]
  },
  {
   "cell_type": "code",
   "execution_count": null,
   "metadata": {},
   "outputs": [],
   "source": [
    "s1 = 'Data'\n",
    "s2 = 'The Data set'\n",
    "def symmetric_in(s1 , s2):\n",
    "return (s1 in s2) or (s2 in s1)"
   ]
  },
  {
   "cell_type": "markdown",
   "metadata": {},
   "source": [
    "## Local Namespace of a Function\n",
    "\n",
    "A function's **local** namespace:\n",
    "\n",
    "- any formal parameter, or\n",
    "- any variable name used on the **left-hand-side** of an assignment statement\n",
    "within the function body.\n",
    "\n",
    "All other names referenced in the body must be **resolved** at the time\n",
    "of call, i.e. an appropriate binding must be found for it."
   ]
  },
  {
   "cell_type": "markdown",
   "metadata": {},
   "source": [
    "## The LEGB rule for name resolution\n",
    "\n",
    "One of the most common errors that occur in Python programs is a\n",
    "**`NameError`**! This happens when Python's rule for resolving a name fails.\n",
    "\n",
    "The rule is based on **lexical scope**: the **nested** structure\n",
    "of the **definition blocks** within a program determines how names are resolved.\n",
    "\n",
    "In order, **LEGB**\n",
    "\n",
    "- **L**ocal scope: current definition\n",
    "\n",
    "- **E**nclosing scope: within any (strictly) enclosing definition\n",
    "\n",
    "- **G**lobal scope: the top-level namespace (i.e. bound in the module)\n",
    "\n",
    "- **B**uiltin scope: a builtin object definition\n",
    "\n",
    "**Qualified names**, i.e., names with the dot notation, are resolved by looking\n",
    "at the sequence of namespaces obtained from the dots."
   ]
  },
  {
   "cell_type": "markdown",
   "metadata": {},
   "source": [
    "### Example"
   ]
  },
  {
   "cell_type": "code",
   "execution_count": 1,
   "metadata": {},
   "outputs": [
    {
     "name": "stdout",
     "output_type": "stream",
     "text": [
      "3.141592653589793\n",
      "Outer f's locals: {'x': 30}\n",
      "Outer f's globals: {'__name__': '__main__', '__doc__': 'Automatically created module for IPython interactive environment', '__package__': None, '__loader__': None, '__spec__': None, '__builtin__': <module 'builtins' (built-in)>, '__builtins__': <module 'builtins' (built-in)>, '_ih': ['', '#| code-fold: true\\n#| eval: false\\nimport math\\ndef f(x):\\n    print(f\"Outer f\\'s locals: {locals()}\")\\n    print(f\"Outer f\\'s globals: {globals()}\")\\n    return x+y\\n\\ndef g(x, z):\\n    z = 10\\n    def f(x, z):\\n        print(f\"Enclosed f\\'s locals: {locals()}\")\\n        print(f\"Enclosed f\\'s globals: {globals()}\")\\n        return x**2 + y**2 + z\\n    print(f\"Outer g\\'s locals: {locals()}\")\\n    print(f\"Outer g\\'s globals: {globals()}\")\\n    return f(x, y) % z\\n\\ny = 19\\nprint(math.pi)\\nprint(f(30))\\nprint(g(y, 3))'], '_oh': {}, '_dh': [WindowsPath('C:/Users/nikhi/Downloads')], 'In': ['', '#| code-fold: true\\n#| eval: false\\nimport math\\ndef f(x):\\n    print(f\"Outer f\\'s locals: {locals()}\")\\n    print(f\"Outer f\\'s globals: {globals()}\")\\n    return x+y\\n\\ndef g(x, z):\\n    z = 10\\n    def f(x, z):\\n        print(f\"Enclosed f\\'s locals: {locals()}\")\\n        print(f\"Enclosed f\\'s globals: {globals()}\")\\n        return x**2 + y**2 + z\\n    print(f\"Outer g\\'s locals: {locals()}\")\\n    print(f\"Outer g\\'s globals: {globals()}\")\\n    return f(x, y) % z\\n\\ny = 19\\nprint(math.pi)\\nprint(f(30))\\nprint(g(y, 3))'], 'Out': {}, 'get_ipython': <bound method InteractiveShell.get_ipython of <ipykernel.zmqshell.ZMQInteractiveShell object at 0x0000028669DB1550>>, 'exit': <IPython.core.autocall.ZMQExitAutocall object at 0x0000028669DBE110>, 'quit': <IPython.core.autocall.ZMQExitAutocall object at 0x0000028669DBE110>, 'open': <function open at 0x0000028667D167A0>, '_': '', '__': '', '___': '', '_i': '', '_ii': '', '_iii': '', '_i1': '#| code-fold: true\\n#| eval: false\\nimport math\\ndef f(x):\\n    print(f\"Outer f\\'s locals: {locals()}\")\\n    print(f\"Outer f\\'s globals: {globals()}\")\\n    return x+y\\n\\ndef g(x, z):\\n    z = 10\\n    def f(x, z):\\n        print(f\"Enclosed f\\'s locals: {locals()}\")\\n        print(f\"Enclosed f\\'s globals: {globals()}\")\\n        return x**2 + y**2 + z\\n    print(f\"Outer g\\'s locals: {locals()}\")\\n    print(f\"Outer g\\'s globals: {globals()}\")\\n    return f(x, y) % z\\n\\ny = 19\\nprint(math.pi)\\nprint(f(30))\\nprint(g(y, 3))', 'math': <module 'math' (built-in)>, 'f': <function f at 0x0000028669D7F420>, 'g': <function g at 0x0000028669D7FD80>, 'y': 19}\n",
      "49\n",
      "Outer g's locals: {'x': 19, 'z': 10, 'f': <function g.<locals>.f at 0x0000028669D7FB00>}\n",
      "Outer g's globals: {'__name__': '__main__', '__doc__': 'Automatically created module for IPython interactive environment', '__package__': None, '__loader__': None, '__spec__': None, '__builtin__': <module 'builtins' (built-in)>, '__builtins__': <module 'builtins' (built-in)>, '_ih': ['', '#| code-fold: true\\n#| eval: false\\nimport math\\ndef f(x):\\n    print(f\"Outer f\\'s locals: {locals()}\")\\n    print(f\"Outer f\\'s globals: {globals()}\")\\n    return x+y\\n\\ndef g(x, z):\\n    z = 10\\n    def f(x, z):\\n        print(f\"Enclosed f\\'s locals: {locals()}\")\\n        print(f\"Enclosed f\\'s globals: {globals()}\")\\n        return x**2 + y**2 + z\\n    print(f\"Outer g\\'s locals: {locals()}\")\\n    print(f\"Outer g\\'s globals: {globals()}\")\\n    return f(x, y) % z\\n\\ny = 19\\nprint(math.pi)\\nprint(f(30))\\nprint(g(y, 3))'], '_oh': {}, '_dh': [WindowsPath('C:/Users/nikhi/Downloads')], 'In': ['', '#| code-fold: true\\n#| eval: false\\nimport math\\ndef f(x):\\n    print(f\"Outer f\\'s locals: {locals()}\")\\n    print(f\"Outer f\\'s globals: {globals()}\")\\n    return x+y\\n\\ndef g(x, z):\\n    z = 10\\n    def f(x, z):\\n        print(f\"Enclosed f\\'s locals: {locals()}\")\\n        print(f\"Enclosed f\\'s globals: {globals()}\")\\n        return x**2 + y**2 + z\\n    print(f\"Outer g\\'s locals: {locals()}\")\\n    print(f\"Outer g\\'s globals: {globals()}\")\\n    return f(x, y) % z\\n\\ny = 19\\nprint(math.pi)\\nprint(f(30))\\nprint(g(y, 3))'], 'Out': {}, 'get_ipython': <bound method InteractiveShell.get_ipython of <ipykernel.zmqshell.ZMQInteractiveShell object at 0x0000028669DB1550>>, 'exit': <IPython.core.autocall.ZMQExitAutocall object at 0x0000028669DBE110>, 'quit': <IPython.core.autocall.ZMQExitAutocall object at 0x0000028669DBE110>, 'open': <function open at 0x0000028667D167A0>, '_': '', '__': '', '___': '', '_i': '', '_ii': '', '_iii': '', '_i1': '#| code-fold: true\\n#| eval: false\\nimport math\\ndef f(x):\\n    print(f\"Outer f\\'s locals: {locals()}\")\\n    print(f\"Outer f\\'s globals: {globals()}\")\\n    return x+y\\n\\ndef g(x, z):\\n    z = 10\\n    def f(x, z):\\n        print(f\"Enclosed f\\'s locals: {locals()}\")\\n        print(f\"Enclosed f\\'s globals: {globals()}\")\\n        return x**2 + y**2 + z\\n    print(f\"Outer g\\'s locals: {locals()}\")\\n    print(f\"Outer g\\'s globals: {globals()}\")\\n    return f(x, y) % z\\n\\ny = 19\\nprint(math.pi)\\nprint(f(30))\\nprint(g(y, 3))', 'math': <module 'math' (built-in)>, 'f': <function f at 0x0000028669D7F420>, 'g': <function g at 0x0000028669D7FD80>, 'y': 19}\n",
      "Enclosed f's locals: {'x': 19, 'z': 19}\n",
      "Enclosed f's globals: {'__name__': '__main__', '__doc__': 'Automatically created module for IPython interactive environment', '__package__': None, '__loader__': None, '__spec__': None, '__builtin__': <module 'builtins' (built-in)>, '__builtins__': <module 'builtins' (built-in)>, '_ih': ['', '#| code-fold: true\\n#| eval: false\\nimport math\\ndef f(x):\\n    print(f\"Outer f\\'s locals: {locals()}\")\\n    print(f\"Outer f\\'s globals: {globals()}\")\\n    return x+y\\n\\ndef g(x, z):\\n    z = 10\\n    def f(x, z):\\n        print(f\"Enclosed f\\'s locals: {locals()}\")\\n        print(f\"Enclosed f\\'s globals: {globals()}\")\\n        return x**2 + y**2 + z\\n    print(f\"Outer g\\'s locals: {locals()}\")\\n    print(f\"Outer g\\'s globals: {globals()}\")\\n    return f(x, y) % z\\n\\ny = 19\\nprint(math.pi)\\nprint(f(30))\\nprint(g(y, 3))'], '_oh': {}, '_dh': [WindowsPath('C:/Users/nikhi/Downloads')], 'In': ['', '#| code-fold: true\\n#| eval: false\\nimport math\\ndef f(x):\\n    print(f\"Outer f\\'s locals: {locals()}\")\\n    print(f\"Outer f\\'s globals: {globals()}\")\\n    return x+y\\n\\ndef g(x, z):\\n    z = 10\\n    def f(x, z):\\n        print(f\"Enclosed f\\'s locals: {locals()}\")\\n        print(f\"Enclosed f\\'s globals: {globals()}\")\\n        return x**2 + y**2 + z\\n    print(f\"Outer g\\'s locals: {locals()}\")\\n    print(f\"Outer g\\'s globals: {globals()}\")\\n    return f(x, y) % z\\n\\ny = 19\\nprint(math.pi)\\nprint(f(30))\\nprint(g(y, 3))'], 'Out': {}, 'get_ipython': <bound method InteractiveShell.get_ipython of <ipykernel.zmqshell.ZMQInteractiveShell object at 0x0000028669DB1550>>, 'exit': <IPython.core.autocall.ZMQExitAutocall object at 0x0000028669DBE110>, 'quit': <IPython.core.autocall.ZMQExitAutocall object at 0x0000028669DBE110>, 'open': <function open at 0x0000028667D167A0>, '_': '', '__': '', '___': '', '_i': '', '_ii': '', '_iii': '', '_i1': '#| code-fold: true\\n#| eval: false\\nimport math\\ndef f(x):\\n    print(f\"Outer f\\'s locals: {locals()}\")\\n    print(f\"Outer f\\'s globals: {globals()}\")\\n    return x+y\\n\\ndef g(x, z):\\n    z = 10\\n    def f(x, z):\\n        print(f\"Enclosed f\\'s locals: {locals()}\")\\n        print(f\"Enclosed f\\'s globals: {globals()}\")\\n        return x**2 + y**2 + z\\n    print(f\"Outer g\\'s locals: {locals()}\")\\n    print(f\"Outer g\\'s globals: {globals()}\")\\n    return f(x, y) % z\\n\\ny = 19\\nprint(math.pi)\\nprint(f(30))\\nprint(g(y, 3))', 'math': <module 'math' (built-in)>, 'f': <function f at 0x0000028669D7F420>, 'g': <function g at 0x0000028669D7FD80>, 'y': 19}\n",
      "1\n"
     ]
    }
   ],
   "source": [
    "#| code-fold: true\n",
    "#| eval: false\n",
    "import math\n",
    "def f(x):\n",
    "    print(f\"Outer f's locals: {locals()}\")\n",
    "    print(f\"Outer f's globals: {globals()}\")\n",
    "    return x+y\n",
    "\n",
    "def g(x, z):\n",
    "    z = 10\n",
    "    def f(x, z):\n",
    "        print(f\"Enclosed f's locals: {locals()}\")\n",
    "        print(f\"Enclosed f's globals: {globals()}\")\n",
    "        return x**2 + y**2 + z\n",
    "    print(f\"Outer g's locals: {locals()}\")\n",
    "    print(f\"Outer g's globals: {globals()}\")\n",
    "    return f(x, y) % z\n",
    "\n",
    "y = 19\n",
    "print(math.pi)\n",
    "print(f(30))\n",
    "print(g(y, 3))"
   ]
  },
  {
   "cell_type": "code",
   "execution_count": 7,
   "metadata": {},
   "outputs": [],
   "source": [
    "def palindrome(s):\n",
    "    result = True\n",
    "\n",
    "    for i in range(len(s)//2):\n",
    "        if s[i] != s[-(i+1)]:\n",
    "            result = False\n",
    "            break\n",
    "        \n",
    "    return result"
   ]
  },
  {
   "cell_type": "code",
   "execution_count": 8,
   "metadata": {},
   "outputs": [
    {
     "data": {
      "text/plain": [
       "True"
      ]
     },
     "execution_count": 8,
     "metadata": {},
     "output_type": "execute_result"
    }
   ],
   "source": [
    "palindrome('mom')"
   ]
  },
  {
   "cell_type": "code",
   "execution_count": 9,
   "metadata": {},
   "outputs": [
    {
     "ename": "ModuleNotFoundError",
     "evalue": "No module named 'scope'",
     "output_type": "error",
     "traceback": [
      "\u001b[1;31m---------------------------------------------------------------------------\u001b[0m",
      "\u001b[1;31mModuleNotFoundError\u001b[0m                       Traceback (most recent call last)",
      "Cell \u001b[1;32mIn[9], line 1\u001b[0m\n\u001b[1;32m----> 1\u001b[0m \u001b[38;5;28;01mimport\u001b[39;00m \u001b[38;5;21;01mscope\u001b[39;00m\n\u001b[0;32m      2\u001b[0m \u001b[38;5;28mprint\u001b[39m(scope\u001b[38;5;241m.\u001b[39my)\n",
      "\u001b[1;31mModuleNotFoundError\u001b[0m: No module named 'scope'"
     ]
    }
   ],
   "source": [
    "import scope\n",
    "print(scope.y)"
   ]
  },
  {
   "cell_type": "code",
   "execution_count": 10,
   "metadata": {},
   "outputs": [],
   "source": [
    "import sys"
   ]
  },
  {
   "cell_type": "code",
   "execution_count": 11,
   "metadata": {},
   "outputs": [
    {
     "data": {
      "text/plain": [
       "['C:\\\\Users\\\\nikhi\\\\Downloads',\n",
       " 'C:\\\\Users\\\\nikhi\\\\anaconda3\\\\python311.zip',\n",
       " 'C:\\\\Users\\\\nikhi\\\\anaconda3\\\\DLLs',\n",
       " 'C:\\\\Users\\\\nikhi\\\\anaconda3\\\\Lib',\n",
       " 'C:\\\\Users\\\\nikhi\\\\anaconda3',\n",
       " '',\n",
       " 'C:\\\\Users\\\\nikhi\\\\anaconda3\\\\Lib\\\\site-packages',\n",
       " 'C:\\\\Users\\\\nikhi\\\\anaconda3\\\\Lib\\\\site-packages\\\\win32',\n",
       " 'C:\\\\Users\\\\nikhi\\\\anaconda3\\\\Lib\\\\site-packages\\\\win32\\\\lib',\n",
       " 'C:\\\\Users\\\\nikhi\\\\anaconda3\\\\Lib\\\\site-packages\\\\Pythonwin']"
      ]
     },
     "execution_count": 11,
     "metadata": {},
     "output_type": "execute_result"
    }
   ],
   "source": [
    "sys.path # import will not work if it is not in the below paths"
   ]
  },
  {
   "cell_type": "markdown",
   "metadata": {},
   "source": [
    "## Keyword Arguments\n",
    "\n",
    "- Arguments within the call that of the form\n",
    "```python\n",
    "<formal>=<object>\n",
    "```\n",
    "\n",
    "::: {.callout-important}\n",
    "The same call can have both positional and keyword arguments. However, all\n",
    "keyword arguments must come **after** any positional ones (which occur in\n",
    "the order given by the definition). Keyword arguments do not need to be\n",
    "in order!\n",
    ":::"
   ]
  },
  {
   "cell_type": "code",
   "execution_count": 14,
   "metadata": {},
   "outputs": [],
   "source": [
    "def f(x, y, z):\n",
    "    \"\"\"parameter should be an integer\"\"\"\n",
    "    return (x+y) % z"
   ]
  },
  {
   "cell_type": "code",
   "execution_count": 15,
   "metadata": {},
   "outputs": [
    {
     "data": {
      "text/plain": [
       "2"
      ]
     },
     "execution_count": 15,
     "metadata": {},
     "output_type": "execute_result"
    }
   ],
   "source": [
    "f(3,4,5)"
   ]
  },
  {
   "cell_type": "code",
   "execution_count": 16,
   "metadata": {},
   "outputs": [
    {
     "data": {
      "text/plain": [
       "1"
      ]
     },
     "execution_count": 16,
     "metadata": {},
     "output_type": "execute_result"
    }
   ],
   "source": [
    "f(3, y=4, z=6)"
   ]
  },
  {
   "cell_type": "code",
   "execution_count": 17,
   "metadata": {},
   "outputs": [
    {
     "data": {
      "text/plain": [
       "1"
      ]
     },
     "execution_count": 17,
     "metadata": {},
     "output_type": "execute_result"
    }
   ],
   "source": [
    "f(3, z=6, y=4)"
   ]
  },
  {
   "cell_type": "code",
   "execution_count": null,
   "metadata": {},
   "outputs": [],
   "source": [
    "f(3,y,z=4) #this does not work"
   ]
  },
  {
   "cell_type": "code",
   "execution_count": null,
   "metadata": {},
   "outputs": [],
   "source": [
    "def f(x, y, z=10):  #for this we need not pass the z value\n",
    "    \"\"\"parameter should be an integer\"\"\"\n",
    "    return (x+y) % z"
   ]
  },
  {
   "cell_type": "markdown",
   "metadata": {},
   "source": [
    "### Default Parameter Values\n",
    "\n",
    "Usually, meant to be used with keyword arguments: the default value for that\n",
    "argument is specified at **definition time**, and any variation at the time of\n",
    "call is supplied as a keyword argument referencing that parameter."
   ]
  },
  {
   "cell_type": "code",
   "execution_count": 18,
   "metadata": {},
   "outputs": [
    {
     "ename": "TypeError",
     "evalue": "pow() missing required argument 'exp' (pos 2)",
     "output_type": "error",
     "traceback": [
      "\u001b[1;31m---------------------------------------------------------------------------\u001b[0m",
      "\u001b[1;31mTypeError\u001b[0m                                 Traceback (most recent call last)",
      "Cell \u001b[1;32mIn[18], line 1\u001b[0m\n\u001b[1;32m----> 1\u001b[0m \u001b[38;5;28mpow\u001b[39m(\u001b[38;5;241m2\u001b[39m, z\u001b[38;5;241m=\u001b[39m\u001b[38;5;241m100\u001b[39m, y\u001b[38;5;241m=\u001b[39m\u001b[38;5;241m20\u001b[39m)\n",
      "\u001b[1;31mTypeError\u001b[0m: pow() missing required argument 'exp' (pos 2)"
     ]
    }
   ],
   "source": [
    "pow(2, z=100, y=20)"
   ]
  },
  {
   "cell_type": "code",
   "execution_count": 19,
   "metadata": {},
   "outputs": [
    {
     "name": "stdout",
     "output_type": "stream",
     "text": [
      "Help on built-in function abs in module builtins:\n",
      "\n",
      "abs(x, /)\n",
      "    Return the absolute value of the argument.\n",
      "\n"
     ]
    }
   ],
   "source": [
    "help(abs) #you should not use = in the arguments "
   ]
  },
  {
   "cell_type": "code",
   "execution_count": 21,
   "metadata": {},
   "outputs": [
    {
     "data": {
      "text/plain": [
       "0.13333333333333333"
      ]
     },
     "execution_count": 21,
     "metadata": {},
     "output_type": "execute_result"
    }
   ],
   "source": [
    "abs(2/15)"
   ]
  },
  {
   "cell_type": "code",
   "execution_count": 22,
   "metadata": {},
   "outputs": [
    {
     "data": {
      "text/plain": [
       "False"
      ]
     },
     "execution_count": 22,
     "metadata": {},
     "output_type": "execute_result"
    }
   ],
   "source": [
    "math.isclose(10.5, 10.50001)"
   ]
  },
  {
   "cell_type": "code",
   "execution_count": 23,
   "metadata": {},
   "outputs": [
    {
     "ename": "TypeError",
     "evalue": "isclose() takes exactly 2 positional arguments (3 given)",
     "output_type": "error",
     "traceback": [
      "\u001b[1;31m---------------------------------------------------------------------------\u001b[0m",
      "\u001b[1;31mTypeError\u001b[0m                                 Traceback (most recent call last)",
      "Cell \u001b[1;32mIn[23], line 1\u001b[0m\n\u001b[1;32m----> 1\u001b[0m math\u001b[38;5;241m.\u001b[39misclose(\u001b[38;5;241m10.5\u001b[39m, \u001b[38;5;241m10.50001\u001b[39m, \u001b[38;5;241m10\u001b[39m\u001b[38;5;241m*\u001b[39m\u001b[38;5;241m*\u001b[39m\u001b[38;5;241m2\u001b[39m)\n",
      "\u001b[1;31mTypeError\u001b[0m: isclose() takes exactly 2 positional arguments (3 given)"
     ]
    }
   ],
   "source": [
    "math.isclose(10.5, 10.50001, 10**2) "
   ]
  },
  {
   "cell_type": "code",
   "execution_count": 51,
   "metadata": {},
   "outputs": [],
   "source": [
    "def payment_and_interest(principal, ann_rate, term_in_yrs):\n",
    "    \"\"\"Computes the monthly payment and the total interest\n",
    "       \n",
    "    Args:\n",
    "        principal (float): principal amount\n",
    "        ann_rate (float): annual interest rate\n",
    "        term_in_yrs (int): number of years on the loan\n",
    "   \n",
    "    Returns:\n",
    "        Tuple[float, float]: monthly payment and total interest over loan lifetime\n",
    "        correct to 2 decimal places        \n",
    "    \"\"\"\n",
    "   \n",
    "    # TODO: replace with your own code!!\n",
    "   \n",
    "    no_of_months = term_in_yrs * 12\n",
    "    monthly_rate = ann_rate/(100*12)\n",
    "    monthly_payment = principal * monthly_rate * ((1 + monthly_rate)**no_of_months)/(((1 + monthly_rate)**no_of_months)-1)\n",
    "    print(\"$\",principal,\"borrowed at\", ann_rate,\"% APR for\", no_of_months, \"months\")\n",
    "    monthly_payment_d = round(monthly_payment, 2)\n",
    "    print(\"Fixed monthly payment = \", monthly_payment_d)\n",
    "    total_interest = round((monthly_payment_d * 12 - principal), 2)\n",
    "   \n",
    "    print(\"The total interest = \", total_interest)\n",
    "    \n",
    "    #month = 1\n",
    "    \n",
    "    print(f'{\"Month \":<13}{\"Remaining Principal \":<13}{\"Interest paid \":<13}')\n",
    "    #month = 1\n",
    "    interest_paid = 0\n",
    "    #print(principal)\n",
    "    for month in range(1,no_of_months+1):\n",
    "      if month == 1:\n",
    "        print(f'{month:<13}{round(principal,2):<13}{round(interest_paid,2):<13}')\n",
    "      else:\n",
    "        interest_paid = (principal * 0.005)\n",
    "        principal = principal - (monthly_payment_d) + interest_paid\n",
    "        print(f'{month:<13}{round(principal,2):<13}{round(interest_paid,2):<13}')"
   ]
  },
  {
   "cell_type": "code",
   "execution_count": 52,
   "metadata": {},
   "outputs": [
    {
     "name": "stdout",
     "output_type": "stream",
     "text": [
      "$ 1000 borrowed at 6 % APR for 12 months\n",
      "Fixed monthly payment =  86.07\n",
      "The total interest =  32.84\n",
      "Month        Remaining Principal Interest paid \n",
      "1            1000         0            \n",
      "2            918.93       5.0          \n",
      "3            837.45       4.59         \n",
      "4            755.57       4.19         \n",
      "5            673.28       3.78         \n",
      "6            590.58       3.37         \n",
      "7            507.46       2.95         \n",
      "8            423.93       2.54         \n",
      "9            339.98       2.12         \n",
      "10           255.61       1.7          \n",
      "11           170.81       1.28         \n",
      "12           85.6         0.85         \n"
     ]
    }
   ],
   "source": [
    "payment_and_interest(1000, 6, 1)"
   ]
  },
  {
   "cell_type": "markdown",
   "metadata": {},
   "source": [
    "### Variable number of arguments\n",
    "\n",
    "Function definitions allow for any number of positional arguments (indicated by convention as a `*args` parameter ) and any number of keyword arguments (indicated by convention as a `**kwargs` parameter).\n",
    "\n",
    "We will study these later after we've had a chance to understand **tuple** and **dictionary** datatypes."
   ]
  },
  {
   "cell_type": "markdown",
   "metadata": {},
   "source": [
    "## Examples\n",
    "\n",
    "- Check the documentation of the `pow` builtin function and see how it can be called in various ways by combining positional and keyword arguments.\n",
    "\n",
    "- Repeat the exercise for the documentation of\n",
    "the `abs` builtin function and the `math.isclose` function."
   ]
  },
  {
   "cell_type": "markdown",
   "metadata": {},
   "source": [
    "## Modules\n",
    "\n",
    "Python source code files (with the extension `.py`) are called **modules**.\n",
    "\n",
    "- `import` statement allows access to the **global** namespace of the imported module\n",
    "\n",
    "- whether a module can be imported *depends on the `PYTHONPATH` environment variable (we will study this later). For now, you should ensure that any user-defined modules are in the same folder as the program importing them.\n",
    "\n",
    "- `import <module>` will import all global names within `<module>`: the\n",
    "bindings are referenced, e.g., as `<module>.<name>`\n",
    "\n",
    "- `from <module> import <name>` allows unqualified use of `<name>`\n",
    "\n",
    "::: {.callout-warning}\n",
    "Although allowed, you should avoid using `from <module> import *`. It can be a\n",
    "source of ambiguity and consequent errors in name resolution!\n",
    ":::\n",
    "\n",
    "- `from <module> import <name> as <alias>` or `import <module> as <alias>`\n",
    "are common ways of *abbreviating* long names (or **sub-packages** which we will\n",
    "come across later)\n",
    "\n",
    "- a module is imported only once per interpreter session"
   ]
  },
  {
   "cell_type": "markdown",
   "metadata": {},
   "source": [
    "## Execution of a Module\n",
    "\n",
    "> Execution consists of evaluation of the definitions and the statements in\n",
    "the module.\n",
    "\n",
    "Two ways in which a module can be used:\n",
    "\n",
    "- as a source for definitions to be used in other modules (i.e.,\n",
    "like a **library**)\n",
    "\n",
    "- as a stand-alone program (or **script**) to be executed.\n",
    "\n",
    "In this latter form of use, a **runtime stack** keeps track of function\n",
    "calls!\n",
    "\n",
    "- the **main** frame (containing global namespace definitions) is at the bottom\n",
    "\n",
    "Every function call results in the activation of a new frame\n",
    "that keeps track of the local namespace of the function.\n",
    "\n",
    "- new frame is **pushed** on top of the **calling** program component's frame\n",
    "- control flows to the function body after parameter bindings are performed per\n",
    "the call's arguments\n",
    "- when the function `return`s successfully, its frame is **popped** from the stack\n",
    "- control returns to the point of execution just after the call in the calling\n",
    "program's component"
   ]
  },
  {
   "cell_type": "markdown",
   "metadata": {},
   "source": [
    "## Python Coding Style\n",
    "\n",
    "A series of Python Enhancement Proposals (**PEP**s) have served as design\n",
    "documents describing new additions to the language as it evolved,\n",
    "including **best practices for coding style**.\n",
    "\n",
    "- [PEP 8](peps.python.org/pep-0008/), the style guide for Python code, and\n",
    "[PEP 257](peps.python.org/pep-0257/), the docstring convention guide,\n",
    "form the basis for most best practices.\n",
    "\n",
    "- Variations in docstrings and project- or company-specific guidelines usually\n",
    "try to stay close to these PEP conventions."
   ]
  },
  {
   "cell_type": "markdown",
   "metadata": {},
   "source": [
    "### Conventions used in this course\n",
    "\n",
    "We will follow the PEPs fairly closely as well:\n",
    "\n",
    "- variable names (including module names and function names) in **snake-case**;\n",
    "they should begin with lowercase letters\n",
    "\n",
    "- avoid short variable names: the only place where they may be reasonable is in\n",
    "toy code (for demo purposes), or as index variables when multiple\n",
    "such variables are needed.\n",
    "\n",
    "- **constant** names should be in uppercase\n",
    "\n",
    "- we will use capitalized names in snake-case for **classes** (later + there are other style conventions associated with classes)\n",
    "\n",
    "- follow Google-style for docstrings\n",
    "\n",
    "- start using `pylint` or `flake8` packages to check your modules for style\n",
    "violations! This is called **linting**."
   ]
  }
 ],
 "metadata": {
  "kernelspec": {
   "display_name": "Python 3 (ipykernel)",
   "language": "python",
   "name": "python3"
  },
  "language_info": {
   "codemirror_mode": {
    "name": "ipython",
    "version": 3
   },
   "file_extension": ".py",
   "mimetype": "text/x-python",
   "name": "python",
   "nbconvert_exporter": "python",
   "pygments_lexer": "ipython3",
   "version": "3.11.4"
  }
 },
 "nbformat": 4,
 "nbformat_minor": 4
}
