{
 "cells": [
  {
   "cell_type": "markdown",
   "metadata": {},
   "source": [
    "## Exercises for Session 8\n",
    "\n",
    "A 2-dimensional array or matrix (say, containing numbers) can be represented in Python as a list of lists, with the nested lists being the **rows** of the matrix: we require each row to be of the same length! This\n",
    "length is, of course, the number of **columns**.\n",
    "\n",
    "Design Python functions to compute the following operations:"
   ]
  },
  {
   "cell_type": "code",
   "execution_count": 51,
   "metadata": {},
   "outputs": [],
   "source": [
    "def is_legal(matrix):\n",
    "    \"\"\"Checks if matrix is a legal array.\"\"\"\n",
    "    if not isinstance(matrix, list): #checking if its list or not\n",
    "        return False\n",
    "\n",
    "    if not all(isinstance(row, list) and all(isinstance(x, int) for x in row) for row in matrix):\n",
    "        return False  #checking if its integer or not\n",
    "\n",
    "    row_lengths = [len(row) for row in matrix]\n",
    "    if len(set(row_lengths)) != 1:\n",
    "        return False\n",
    "    \n",
    "    return True"
   ]
  },
  {
   "cell_type": "code",
   "execution_count": 52,
   "metadata": {},
   "outputs": [
    {
     "data": {
      "text/plain": [
       "True"
      ]
     },
     "execution_count": 52,
     "metadata": {},
     "output_type": "execute_result"
    }
   ],
   "source": [
    "is_legal([[4, 5], [5, 8], [9, 10]])"
   ]
  },
  {
   "cell_type": "code",
   "execution_count": 53,
   "metadata": {},
   "outputs": [],
   "source": [
    "def shape(matrix):\n",
    "    \"\"\"Reurns the number of rows and columns.\n",
    "    \n",
    "    Raises:\n",
    "        ValueError: if the matrix is not legal\n",
    "    \"\"\"\n",
    "    if not is_legal(matrix):\n",
    "        raise ValueError(\"Matrix is not legal array.\") #throwing an error if its not a legal matrix\n",
    "    number_rows = len(matrix) #finding the number of rows\n",
    "    number_cols = len(matrix[0]) #finding the number of columns\n",
    "    return number_rows, number_cols"
   ]
  },
  {
   "cell_type": "code",
   "execution_count": 54,
   "metadata": {},
   "outputs": [
    {
     "data": {
      "text/plain": [
       "(3, 2)"
      ]
     },
     "execution_count": 54,
     "metadata": {},
     "output_type": "execute_result"
    }
   ],
   "source": [
    "shape([[4, 5], [5, 8], [9, 10]])"
   ]
  },
  {
   "cell_type": "code",
   "execution_count": 55,
   "metadata": {},
   "outputs": [],
   "source": [
    "def slice(matrix, r_i, r_j, c_k, c_l):\n",
    "    \"\"\"Returns a rectangular 2-D slice of the matrix.\n",
    "    \n",
    "    Assumes that the matrix is legal.\n",
    "    \n",
    "    Raises:\n",
    "        IndexError: if indices are out of bounds        \n",
    "    \"\"\"\n",
    "    number_rows, number_cols = shape(matrix) #assigning the no of rows and columns\n",
    "    if r_i < 0 or r_j >= number_rows or c_k < 0 or c_l >= number_cols:\n",
    "        raise IndexError(\"Indices are out of bound.\") #raising error if the indices are out of bound\n",
    "    result = []\n",
    "    for row in matrix[r_i:r_j + 1]:\n",
    "        result.append(row[c_k:c_l + 1]) #appending the matrix \n",
    "    return result"
   ]
  },
  {
   "cell_type": "code",
   "execution_count": 56,
   "metadata": {},
   "outputs": [
    {
     "data": {
      "text/plain": [
       "[[8, 7], [10, 9]]"
      ]
     },
     "execution_count": 56,
     "metadata": {},
     "output_type": "execute_result"
    }
   ],
   "source": [
    "slice([[4, 5, 5, 9], [5, 8, 7, 0], [9, 10, 9, 5], [1, 1, 1, 1]], 1,2,1,2)"
   ]
  },
  {
   "cell_type": "code",
   "execution_count": null,
   "metadata": {},
   "outputs": [],
   "source": []
  }
 ],
 "metadata": {
  "kernelspec": {
   "display_name": "Python 3 (ipykernel)",
   "language": "python",
   "name": "python3"
  },
  "language_info": {
   "codemirror_mode": {
    "name": "ipython",
    "version": 3
   },
   "file_extension": ".py",
   "mimetype": "text/x-python",
   "name": "python",
   "nbconvert_exporter": "python",
   "pygments_lexer": "ipython3",
   "version": "3.11.4"
  }
 },
 "nbformat": 4,
 "nbformat_minor": 4
}
