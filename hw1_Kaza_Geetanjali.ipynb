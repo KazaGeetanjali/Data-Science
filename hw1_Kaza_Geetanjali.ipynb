{
 "cells": [
  {
   "cell_type": "code",
   "execution_count": null,
   "metadata": {},
   "outputs": [],
   "source": [
    "## Do not modify this cell!!\n",
    "\n",
    "import math"
   ]
  },
  {
   "cell_type": "markdown",
   "metadata": {},
   "source": [
    "# Homework 1 (Due Wednesday, Sep. 20, by midnight)\n",
    "\n",
    "*****\n",
    "\n",
    "**Name:** Kaza Geetanjali \n",
    "\n",
    "**Collaboration disclosure (if any):**\n",
    "\n",
    "-------------\n",
    "\n",
    "## General Instructions\n",
    "\n",
    "> Please make sure that you add your name and cite any help that you received on the assignment.\n",
    "\n",
    "In this assignment, you will complete all your code in the notebook itself before submitting it. \n",
    "The code blocks below each problem may have **starter** code with inline comments that indicate which code you should not modify and which parts need to be completed by you. \n",
    "\n",
    "In all cases, you must operate from the principle that **the code in the notebook must run free of any syntax errors**. "
   ]
  },
  {
   "cell_type": "markdown",
   "metadata": {},
   "source": [
    "## Specific Instructions on Style\n",
    "\n",
    "As you begin to write programs in Python, it is extremely important for you\n",
    "to follow **correct programming style guidelines**. I will emphasize this\n",
    "in the class sessions and after the first week or two, I \n",
    "will start deducting points for badly styled code or code that does not follow\n",
    "the [**PEP 8**](https://www.python.org/dev/peps/pep-0008/) guidelines.\n",
    "\n",
    "Here are a few simple rules to start following:\n",
    "\n",
    "- Variable names and function names should begin with lower-case letters\n",
    "\n",
    "- Names should be descriptive and should use **underscores** to separate\n",
    "  meaningful parts, e.g. `daily_avg`, `max_speed` etc.\n",
    "\n",
    "- There should be a single space surrounding a binary *operator* like\n",
    "  the assignment operator (`=`), an arithmetic operator (`+`, say) and so on.\n",
    "  Unary operators should not have this extra white space.\n",
    "\n",
    "- Complicated arithmetic expressions can be deconstructed into smaller\n",
    "  (simpler) sub-expressions via a sequence of assignments. You should use\n",
    "  parentheses only when absolutely necessary to\n",
    "  make the meaning unambiguous, e.g. `2 * (3 + 5)` is necessary but\n",
    "  `2 * x**2` (for $2x^2) is ok. \n",
    "\n",
    "- Avoid the use of **inline** comments unless it is critical. "
   ]
  },
  {
   "cell_type": "markdown",
   "metadata": {},
   "source": [
    "## Completion and Submission Instructions\n",
    "\n",
    "- Make sure that each problem is completed and tested before you move on to the next one. If you are unable to complete a problem you should indicate the reasons in a Markdown cell: in any case, **the code that you submit should have no syntax errors**.\n",
    "\n",
    "- When you are ready, upload the notebook directly via the Canvas submission link for the assignment. You can upload as many times as you want before the deadline. \n",
    "\n",
    "\n",
    "------------"
   ]
  },
  {
   "cell_type": "markdown",
   "metadata": {},
   "source": [
    "## Problem 1\n",
    "\n",
    "Many fixed-term, fixed-interest loans are structured in a manner that\n",
    "allows payments to be made in **equal monthly installments**\n",
    "across the duration of the loan.\n",
    "To do this, the monthly payment is calculated insuch a way that:\n",
    "\n",
    "- The annual interest rate is converted to a **monthly** interest rate.\n",
    "\n",
    "- Each month's interest on the current remaining principle is deducted from the\n",
    "  payment. \n",
    "\n",
    "- The remainder of the payment is used to reduce the current principal amount.\n",
    "\n",
    "- The month payment is the same each month, and at the end of the loan period, the remaining principal is 0.\n",
    "\n",
    "In fact, if $p$ is the principal, $r$ is the monthly percentage rate as\n",
    "a decimal value, and\n",
    "$n$ is the number of months over which the loan will be fully paid, then the\n",
    "fixed monthly payment, $m$, is given by the formula:\n",
    "\n",
    "$$m = p \\cdot r \\cdot \\frac{(1+r)^n}{(1+r)^n - 1}$$\n",
    "\n",
    "The function takes three arguments: principal, annual percentage rate (APR) and period of load (in whole years). It should not `return` anything but should print the following lines. The first printed line is the overall description of the loan: e.g. if the function is called with arguments 1000, 6, 1 (i.e. borrowing $1000 for 6% APR for 1 year), the function should first print: \n",
    "\n",
    "    $1000 borrowed at 12% APR for 12 months\n",
    "\n",
    "The next line will describe the monthly payment amount. The last line will describe the total amount of interest paid over the period of the loan. For example, for the loan above, we should get:\n",
    "\n",
    "    Fixed monthly payment = 86.07\n",
    "    Total interest paid = 32.80\n",
    "\n",
    "### Extra credit\n",
    "\n",
    "Print the **amotization schedule**. This has a month-by-month compilation of (1) the month number, (2) the remaining principal amount at the beginning of the month, and (3) the cumulative interest paid to date. All amounts should be correct to **2 decimal places**. For example, if everything is nicely aligned by your code, you should get the additional lines:\n",
    "\n",
    "    Month  Remaining Principal Interest paid\n",
    "        1              1000.00          0.00\n",
    "        2               918.93          5.00\n",
    "        3               837.46          9.59\n",
    "        4               755.58         13.78\n",
    "        5               673.29         17.56\n",
    "        6               590.59         20.93\n",
    "        7               507.48         23.88\n",
    "        8               423.95         26.42\n",
    "        9               340.01         28.54\n",
    "       10               255.64         30.24\n",
    "       11               170.85         31.51\n",
    "       12                85.64         32.37\n",
    "\n",
    "Complete the following function stub below; **do not modify the docstring!**"
   ]
  },
  {
   "cell_type": "code",
   "execution_count": 41,
   "metadata": {},
   "outputs": [],
   "source": [
    "def payment_and_interest(principal, ann_rate, term_in_yrs):\n",
    "    \"\"\"Computes the monthly payment and the total interest\n",
    "       \n",
    "    Args:\n",
    "        principal (float): principal amount\n",
    "        ann_rate (float): annual interest rate\n",
    "        term_in_yrs (int): number of years on the loan\n",
    "   \n",
    "    Returns:\n",
    "        Tuple[float, float]: monthly payment and total interest over loan lifetime\n",
    "        correct to 2 decimal places    \n",
    "    \"\"\"\n",
    "   \n",
    "    # TODO: replace with your own code!!\n",
    "   \n",
    "    no_of_months = term_in_yrs * 12\n",
    "    monthly_rate = ann_rate/(100*12)\n",
    "    monthly_payment = principal * monthly_rate * ((1 + monthly_rate)**no_of_months)/(((1 + monthly_rate)**no_of_months)-1)\n",
    "    print(\"$\",principal,\"borrowed at\", ann_rate,\"% APR for\", no_of_months, \"months\")\n",
    "    monthly_payment_d = round(monthly_payment, 2)\n",
    "    print(\"Fixed monthly payment = \", monthly_payment_d)\n",
    "    total_interest = round((monthly_payment_d * 12 - principal), 2)\n",
    "   \n",
    "    print(\"The total interest = \", total_interest)\n",
    "    print(f'{\"Month \":<13}{\"Remaining Principal \":<18}{\"Interest paid \":<13}')\n",
    "    interest_paid = 0\n",
    "    for month in range(1,no_of_months+1):\n",
    "      if month == 1:\n",
    "        print(f'{month:<20}{round(principal,2):<20}{round(interest_paid,2):<20}')\n",
    "      else:\n",
    "        interest_paid = (principal * monthly_rate)\n",
    "        principal = principal - (monthly_payment_d) + interest_paid\n",
    "        print(f'{month:<20}{round(principal,2):<20}{round(interest_paid,2):<20}')"
   ]
  },
  {
   "cell_type": "code",
   "execution_count": 42,
   "metadata": {},
   "outputs": [
    {
     "name": "stdout",
     "output_type": "stream",
     "text": [
      "$ 1000 borrowed at 6 % APR for 12 months\n",
      "Fixed monthly payment =  86.07\n",
      "The total interest =  32.84\n",
      "Month        Remaining Principal Interest paid \n",
      "1                   1000                0                   \n",
      "2                   918.93              5.0                 \n",
      "3                   837.45              4.59                \n",
      "4                   755.57              4.19                \n",
      "5                   673.28              3.78                \n",
      "6                   590.58              3.37                \n",
      "7                   507.46              2.95                \n",
      "8                   423.93              2.54                \n",
      "9                   339.98              2.12                \n",
      "10                  255.61              1.7                 \n",
      "11                  170.81              1.28                \n",
      "12                  85.6                0.85                \n"
     ]
    }
   ],
   "source": [
    "# Do not remove this cell: it should print the example output shown above:\n",
    "payment_and_interest(1000, 6, 1)"
   ]
  },
  {
   "cell_type": "markdown",
   "metadata": {},
   "source": [
    "## ## Problem 2\n",
    "\n",
    "The `math` module in Python is a built-in library that contains\n",
    "**pre-defined mathematical functions** that can be *imported* into your code.\n",
    "You will use some of these functions to compute the \n",
    "*geodesic* (i.e., shortest) distance between two given points on the\n",
    "Earth's surface.\n",
    "\n",
    "The Earth is not an exact sphere but we can still get by without too much error\n",
    "if we use the **spherical great-circle distance**: the great circle is the\n",
    "intersection of the sphere's surface with the unique plane that passes through the two points\n",
    "as well as the \n",
    "center of the Earth. Then the great-circle distance is given by the\n",
    "length of the smaller of the two arcs on the great circle connecting the\n",
    "points. If we are given the points using latitudes and longitudes, then\n",
    "the distance can be computed as follows.\n",
    "\n",
    "Let point A have latitude and longitude coordinates $(\\phi_1, \\lambda_1)$ and\n",
    "let point B have coordinates $(\\phi_2, \\lambda_2)$ **in radians** (you will need to convert degrees to radians).\n",
    "We will assume that the\n",
    "Earth's radius is $R = 3956$ (in miles). Then, if\n",
    "$\\Delta \\phi = \\phi_1 - \\phi_2$ and $\\Delta \\lambda = \\lambda_1 - \\lambda_2$\n",
    "are the differences in latitudes and longitudes between points A and B, the\n",
    "great circle distance is given by\n",
    "\n",
    "$$ 2 R \\cdot {\\sin}^{-1} \\sqrt{ {\\sin}^{2} \\left( \\frac{\\Delta \\phi}{2} \\right) + \\cos \\phi_1 \\cdot \\cos \\phi_2 \\cdot {\\sin}^{2} \\left( \\frac{\\Delta \\lambda}{2} \\right) } $$\n",
    "\n",
    "Complete the following function stub that takes the latitude and longitudes (**in degrees**) of two \n",
    "points and computes the great-circle distance between them: **you should add an appropriate\n",
    "docstring** using the Google-style docstring given in the previous problem's function stub as a guide. "
   ]
  },
  {
   "cell_type": "code",
   "execution_count": null,
   "metadata": {},
   "outputs": [],
   "source": [
    "## Do not modify this cell!!\n",
    "\n",
    "R = 3956.0  # Earth's approximate radius in miles"
   ]
  },
  {
   "cell_type": "code",
   "execution_count": 7,
   "metadata": {},
   "outputs": [],
   "source": [
    "import math"
   ]
  },
  {
   "cell_type": "code",
   "execution_count": 52,
   "metadata": {},
   "outputs": [],
   "source": [
    "## Complete the function stub below\n",
    "\n",
    "def great_circle_distance(lat_1, long_1, lat_2, long_2):\n",
    "    \"\"\"Computes the great circle distance using the latitude and longitude coordinates of 2 points\n",
    "    \n",
    "    Args:\n",
    "        lat_1 = latitude coordinate of point A\n",
    "        lat_2 = latitude coordinate of point B\n",
    "        long_1 = longitude coordinate of point A\n",
    "        long_2 = longitude coordinate of point B\n",
    "        \n",
    "    Returns:\n",
    "        Distance(float) between 2 points on Earth\n",
    "        \n",
    "    >>> great_circle_distance(39.952583, -75.165222, 31.945368, 35.928371) \n",
    "    5795.269686329826\n",
    "    \n",
    "    >>> great_circle_distance(20.593683, 78.962883, 40.058323, -74.405663)\n",
    "    7903.100369217088\n",
    "    \n",
    "    \"\"\"\n",
    "    \n",
    "    lat_1 = math.radians (lat_1)\n",
    "    lat_2 = math.radians (lat_2)\n",
    "    long_1 = math.radians (long_1)\n",
    "    long_2 = math.radians (long_2)\n",
    "    delta_lat = lat_1 - lat_2\n",
    "    delta_long = long_1 - long_2\n",
    "    \n",
    "    x = math.sin (delta_lat/2)**2\n",
    "    y = math.cos (lat_1) * math.cos (lat_2) * math.sin(delta_long/2)**2\n",
    "    z = math.sqrt (x + y)\n",
    "    Radius = 3956.0\n",
    "    Distance = 2 * Radius * math.asin (z)\n",
    "    \n",
    "    return Distance"
   ]
  },
  {
   "cell_type": "code",
   "execution_count": 53,
   "metadata": {},
   "outputs": [
    {
     "data": {
      "text/plain": [
       "5795.269686329826"
      ]
     },
     "execution_count": 53,
     "metadata": {},
     "output_type": "execute_result"
    }
   ],
   "source": [
    "great_circle_distance(39.952583, -75.165222, 31.945368, 35.928371)"
   ]
  },
  {
   "cell_type": "code",
   "execution_count": 54,
   "metadata": {},
   "outputs": [
    {
     "data": {
      "text/plain": [
       "TestResults(failed=0, attempted=6)"
      ]
     },
     "execution_count": 54,
     "metadata": {},
     "output_type": "execute_result"
    }
   ],
   "source": [
    "import doctest\n",
    "doctest.testmod()"
   ]
  },
  {
   "cell_type": "code",
   "execution_count": 45,
   "metadata": {},
   "outputs": [
    {
     "name": "stdout",
     "output_type": "stream",
     "text": [
      "5795.27\n"
     ]
    }
   ],
   "source": [
    "print('{:.2f}'.format(great_circle_distance(39.952583, -75.165222, 31.945368, 35.928371)))"
   ]
  },
  {
   "cell_type": "markdown",
   "metadata": {},
   "source": [
    "## India to New Jersey"
   ]
  },
  {
   "cell_type": "code",
   "execution_count": 11,
   "metadata": {},
   "outputs": [
    {
     "data": {
      "text/plain": [
       "7903.100369217088"
      ]
     },
     "execution_count": 11,
     "metadata": {},
     "output_type": "execute_result"
    }
   ],
   "source": [
    "great_circle_distance(20.593683, 78.962883, 40.058323, -74.405663)"
   ]
  },
  {
   "cell_type": "code",
   "execution_count": 12,
   "metadata": {},
   "outputs": [
    {
     "name": "stdout",
     "output_type": "stream",
     "text": [
      "7862.17\n"
     ]
    }
   ],
   "source": [
    "print('{:.2f}'.format(great_circle_distance(23.810331, 90.412521, 40.712776, -74.005974)))"
   ]
  },
  {
   "cell_type": "markdown",
   "metadata": {},
   "source": [
    "For example, consider the sister cities Philadelphia and Amman (Jordan) - in fact, Amman's name\n",
    "was Philadelphia in Roman times. \n",
    "According to the site **[latlong.net](http://latlong.net)**, the \n",
    "latitude of Philadelphia (in degrees) is 39.952583 and the longitude (in degrees) is -75.16522. The \n",
    "latitude of Amman (in degrees) is 31.945368 and the \n",
    "longitude of Amman (in degrees) is 35.928371.\n",
    "\n",
    "Your function should give the answer below. Try it out on other examples too - e.g. look for cities like Buenos Aires and Beijing that are approximately anti-podal (i.e. lie at a great-circle distance of around 12000 miles)"
   ]
  },
  {
   "cell_type": "code",
   "execution_count": 58,
   "metadata": {},
   "outputs": [
    {
     "name": "stdout",
     "output_type": "stream",
     "text": [
      "5795.27\n"
     ]
    }
   ],
   "source": [
    "## Do not modify this cell!!\n",
    "\n",
    "print('{:.2f}'.format(great_circle_distance(39.952583, -75.165222, 31.945368, 35.928371)))\n",
    "## Should print 5795.27"
   ]
  },
  {
   "cell_type": "code",
   "execution_count": null,
   "metadata": {},
   "outputs": [],
   "source": [
    "import doctest\n",
    "doctest.testmod()"
   ]
  },
  {
   "cell_type": "markdown",
   "metadata": {},
   "source": [
    "## Problem 3\n",
    "\n",
    "It has been shown that $\\pi$ is equal to the following generalized continued fraction:\n",
    "\n",
    "$$\\pi = \\cfrac{4}{1+\\cfrac{1^2}{3+\\cfrac{2^2}{5+\\cfrac{3^2}{\\dots}}}}$$"
   ]
  },
  {
   "cell_type": "markdown",
   "metadata": {},
   "source": [
    "For instance, with successively more fractions being used, we get approximations:\n",
    "\n",
    "$$x_0 = \\cfrac{4}{1} = 4$$\n",
    "$$x_1 = \\cfrac{4}{1 + \\cfrac{1}{3}} = 3$$\n",
    "\n",
    "$$x_2 = \\cfrac{4}{1 + \\cfrac{1}{3 + \\cfrac{2^2}{5}}} = \\cfrac{19}{6} = 3.166$$\n",
    "\n",
    "You can use the built-in Python module `fractions` to work with **rational numbers** (i.e. numbers of the form $\\frac{a}{b}$ where $a$ and $b$ are integers).\n",
    "\n",
    "For instance, the code:"
   ]
  },
  {
   "cell_type": "raw",
   "metadata": {},
   "source": [
    "import fractions\n",
    "f = fractions.Fraction(2, 3)   # new fraction with numerator 2 and denominator 3\n",
    "print(f+10)\n",
    "print(f*22/7)\n",
    "z = f+10\n",
    "print(repr(z))"
   ]
  },
  {
   "cell_type": "markdown",
   "metadata": {},
   "source": [
    "will print:"
   ]
  },
  {
   "cell_type": "raw",
   "metadata": {},
   "source": [
    "32/3\n",
    "44/21\n",
    "Fraction(32, 3)"
   ]
  },
  {
   "cell_type": "markdown",
   "metadata": {},
   "source": [
    "Now, complete the definition in the following function stub that computes a continued fraction approximation of $\\pi$ upto $n$ terms, i.e. as $x_{n-1}$ in the sequence given above. Note the **doctests** that have been added to the documentation to test that your code works! If any of the test fail, it means something is wrong with your code. Caveat: the converse is not true! You can always write code **to the test**, but of course you should not."
   ]
  },
  {
   "cell_type": "code",
   "execution_count": 13,
   "metadata": {},
   "outputs": [],
   "source": [
    "## Do not modify this cell!!\n",
    "import fractions"
   ]
  },
  {
   "cell_type": "code",
   "execution_count": 14,
   "metadata": {},
   "outputs": [],
   "source": [
    "## Add your code in this cell\n",
    "\n",
    "def pi_approx_by_gcf(n):\n",
    "    \"\"\"Computes the approximation of pi using generalized continued fractions\n",
    "    \n",
    "    Args:\n",
    "        n (int): number of terms in continued fraction expansion (>= 0)\n",
    "    \n",
    "    Returns:\n",
    "        fractions.Fraction that corresponds to the rational approximation to n terms\n",
    "        \n",
    "    >>> pi_approx_by_gcf(0)\n",
    "    Fraction(4, 1)\n",
    "    >>> pi_approx_by_gcf(2)\n",
    "    Fraction(19, 6)\n",
    "    >>> pi_approx_by_gcf(3)\n",
    "    Fraction(160, 51)\n",
    "    \"\"\"\n",
    "    denom = 0\n",
    "    for x in range (n, 0, -1):\n",
    "        \n",
    "        denom = fractions.Fraction (x**2, (2 * x + 1) + denom)\n",
    "        \n",
    "    return fractions.Fraction(4, 1 + denom)  # Complete the stub"
   ]
  },
  {
   "cell_type": "code",
   "execution_count": 15,
   "metadata": {},
   "outputs": [
    {
     "data": {
      "text/plain": [
       "Fraction(19, 6)"
      ]
     },
     "execution_count": 15,
     "metadata": {},
     "output_type": "execute_result"
    }
   ],
   "source": [
    "pi_approx_by_gcf(2)"
   ]
  },
  {
   "cell_type": "code",
   "execution_count": 29,
   "metadata": {},
   "outputs": [
    {
     "name": "stdout",
     "output_type": "stream",
     "text": [
      "Trying:\n",
      "    pi_approx_by_gcf(0)\n",
      "Expecting:\n",
      "    Fraction(4, 1)\n",
      "ok\n",
      "Trying:\n",
      "    pi_approx_by_gcf(2)\n",
      "Expecting:\n",
      "    Fraction(19, 6)\n",
      "ok\n",
      "Trying:\n",
      "    pi_approx_by_gcf(3)\n",
      "Expecting:\n",
      "    Fraction(160, 51)\n",
      "ok\n",
      "4 items had no tests:\n",
      "    __main__\n",
      "    __main__.approx_sqrt\n",
      "    __main__.great_circle_distance\n",
      "    __main__.payment_and_interest\n",
      "1 items passed all tests:\n",
      "   3 tests in __main__.pi_approx_by_gcf\n",
      "3 tests in 5 items.\n",
      "3 passed and 0 failed.\n",
      "Test passed.\n"
     ]
    },
    {
     "data": {
      "text/plain": [
       "TestResults(failed=0, attempted=3)"
      ]
     },
     "execution_count": 29,
     "metadata": {},
     "output_type": "execute_result"
    }
   ],
   "source": [
    "import doctest\n",
    "doctest.testmod(verbose=True)"
   ]
  },
  {
   "cell_type": "markdown",
   "metadata": {},
   "source": [
    "## Problem 4\n",
    "\n",
    "The `math` module has a function, `sqrt`, to compute the square root of\n",
    "a number $n$. We will write a function based on **Newton's method**\n",
    "for finding the approximate square root of $n$: the method \n",
    "proceeds by computing a sequence of values of the\n",
    "form $x_0=1, ~x_1, ~x_2, \\ldots$ where every successive value is\n",
    "calculated from\n",
    "the previous one as follows:\n",
    "\n",
    "$$x_{k+1} = \\frac{1}{2} \\left(x_k + \\frac{n}{x_k} \\right)$$\n",
    "\n",
    "The longer the sequence, the closer the approximation is to the true value of\n",
    "$\\sqrt{n}$. \n",
    "\n",
    "Complete the following function that takes two arguments: the number whose square root is desired, and the number of terms in the approximation (with $x_0=1$ being the first term etc.)\n"
   ]
  },
  {
   "cell_type": "code",
   "execution_count": 16,
   "metadata": {},
   "outputs": [],
   "source": [
    "import math"
   ]
  },
  {
   "cell_type": "code",
   "execution_count": 46,
   "metadata": {},
   "outputs": [],
   "source": [
    "## Complete the function definition including formal parameters, docstring and body\n",
    "\n",
    "def approx_sqrt(num, n):\n",
    "    \"\"\"\n",
    "    Computes the approximate square root of a number\n",
    "    \n",
    "    Args:\n",
    "        num(int): desire number for which approximate square root should appear\n",
    "        n (int): number of terms in exponent\n",
    "    \n",
    "    Returns:\n",
    "        fractions.Fraction that corresponds to the rational approximation to n terms\n",
    "        \n",
    "    >>> approx_sqrt(100, 10)\n",
    "    10.0\n",
    "    \"\"\"\n",
    "    x = 1\n",
    "    i = 0\n",
    "    for i in range(n):\n",
    "        i = i + 1\n",
    "        x = (1/2) * (x + num/x)\n",
    "    return x\n"
   ]
  },
  {
   "cell_type": "code",
   "execution_count": 49,
   "metadata": {},
   "outputs": [
    {
     "data": {
      "text/plain": [
       "10.0"
      ]
     },
     "execution_count": 49,
     "metadata": {},
     "output_type": "execute_result"
    }
   ],
   "source": [
    "approx_sqrt(100, 10)"
   ]
  },
  {
   "cell_type": "code",
   "execution_count": 19,
   "metadata": {},
   "outputs": [
    {
     "name": "stdout",
     "output_type": "stream",
     "text": [
      "k = 100: Approx. sqrt is 10.00000 and library function answer is 10.00000\n",
      "k = 120: Approx. sqrt is 10.95445 and library function answer is 10.95445\n",
      "k = 140: Approx. sqrt is 11.83216 and library function answer is 11.83216\n",
      "k = 160: Approx. sqrt is 12.64911 and library function answer is 12.64911\n",
      "k = 180: Approx. sqrt is 13.41641 and library function answer is 13.41641\n",
      "k = 200: Approx. sqrt is 14.14214 and library function answer is 14.14214\n",
      "k = 220: Approx. sqrt is 14.83240 and library function answer is 14.83240\n",
      "k = 240: Approx. sqrt is 15.49193 and library function answer is 15.49193\n",
      "k = 260: Approx. sqrt is 16.12452 and library function answer is 16.12452\n",
      "k = 280: Approx. sqrt is 16.73320 and library function answer is 16.73320\n",
      "k = 300: Approx. sqrt is 17.32051 and library function answer is 17.32051\n",
      "k = 320: Approx. sqrt is 17.88854 and library function answer is 17.88854\n",
      "k = 340: Approx. sqrt is 18.43909 and library function answer is 18.43909\n",
      "k = 360: Approx. sqrt is 18.97367 and library function answer is 18.97367\n",
      "k = 380: Approx. sqrt is 19.49359 and library function answer is 19.49359\n",
      "k = 400: Approx. sqrt is 20.00000 and library function answer is 20.00000\n",
      "k = 420: Approx. sqrt is 20.49390 and library function answer is 20.49390\n",
      "k = 440: Approx. sqrt is 20.97618 and library function answer is 20.97618\n",
      "k = 460: Approx. sqrt is 21.44761 and library function answer is 21.44761\n",
      "k = 480: Approx. sqrt is 21.90890 and library function answer is 21.90890\n"
     ]
    }
   ],
   "source": [
    "## Do not modify this cell\n",
    "for k in range(100,500,20):\n",
    "    lib_sqrt = math.sqrt(k)\n",
    "    line = 'k = {}: Approx. sqrt is {:.5f} and library function answer is {:.5f}'\n",
    "    print(line.format(k, approx_sqrt(k, round(lib_sqrt)), lib_sqrt))\n"
   ]
  },
  {
   "cell_type": "code",
   "execution_count": 50,
   "metadata": {},
   "outputs": [
    {
     "data": {
      "text/plain": [
       "TestResults(failed=0, attempted=5)"
      ]
     },
     "execution_count": 50,
     "metadata": {},
     "output_type": "execute_result"
    }
   ],
   "source": [
    "import doctest\n",
    "doctest.testmod()"
   ]
  },
  {
   "cell_type": "code",
   "execution_count": null,
   "metadata": {},
   "outputs": [],
   "source": []
  }
 ],
 "metadata": {
  "kernelspec": {
   "display_name": "Python 3 (ipykernel)",
   "language": "python",
   "name": "python3"
  },
  "language_info": {
   "codemirror_mode": {
    "name": "ipython",
    "version": 3
   },
   "file_extension": ".py",
   "mimetype": "text/x-python",
   "name": "python",
   "nbconvert_exporter": "python",
   "pygments_lexer": "ipython3",
   "version": "3.11.4"
  }
 },
 "nbformat": 4,
 "nbformat_minor": 4
}
