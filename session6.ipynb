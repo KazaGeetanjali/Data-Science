{
 "cells": [
  {
   "cell_type": "markdown",
   "id": "4036eebe-42e8-48a1-b274-b01e5f4a4998",
   "metadata": {},
   "source": [
    "# Session 6"
   ]
  },
  {
   "cell_type": "markdown",
   "id": "4cc954d1-e851-4ff4-a64c-fb1b9a23d547",
   "metadata": {},
   "source": [
    "### Practice\n",
    "\n",
    "From Wikipedia:\n",
    "\n",
    "> The Collatz conjecture is a conjecture in mathematics that concerns a sequence\n",
    "    defined as follows: start with any positive integer n. Then each term is obtained from\n",
    "    the previous term as follows: if the previous term is even, the next term is one half\n",
    "    of the previous term. If the previous term is odd, the next term is 3 times the previous       term plus 1. The conjecture is that no matter what value of n, the sequence\n",
    "    will always reach 1.\n",
    "\n",
    "Ask the user to repeatedly input a positive integer $x$, and determine the length of $x$'s Collatz sequence (which starts at $x$ and ends at $1$). Stop when the user inputs 0. You may assume that the user *will* always input a non-negative integer: understand the errors that may be flagged if this convention is violated! "
   ]
  },
  {
   "cell_type": "code",
   "execution_count": null,
   "id": "9fe4eeb3",
   "metadata": {},
   "outputs": [],
   "source": [
    "#even number - 32/2-->16\n",
    "#odd number - 33*3-->99+1-->100\n",
    "x= int(input(\"Provide a positive integer \"))\n",
    "while x!= 0:\n",
    "    orginal_x= x\n",
    "    n_term=1\n",
    "    while x!=1:\n",
    "        if(x%2==0):\n",
    "            x= x//2\n",
    "        else:\n",
    "            x= x*3+1\n",
    "            n_term+=1            \n",
    "    assert x==1  \n",
    "    print(\"The collatz sequence for \",orginal_x,\"is \",n_term)\n",
    "    x= int(input(\"Provide a positive integer \"))"
   ]
  },
  {
   "cell_type": "markdown",
   "id": "325abc7a-8d03-4e30-bd6d-82747ca5de78",
   "metadata": {},
   "source": [
    "### Practice\n",
    "\n",
    "Use the `random` module to compute the approximate value of $\\pi$.\n",
    "\n",
    "**Intution:** Throw darts randomly (but uniformly) in a square with side length 2. Count the proportion of darts that land in the **incircle** for the square (i.e., the inscribed circle)."
   ]
  },
  {
   "cell_type": "code",
   "execution_count": 2,
   "id": "62ae9fd6",
   "metadata": {},
   "outputs": [
    {
     "name": "stdout",
     "output_type": "stream",
     "text": [
      "Approxiation of pi =  3.1208\n"
     ]
    }
   ],
   "source": [
    "import random\n",
    "import math\n",
    "N = 10000\n",
    "inside_circle = 0\n",
    "for i in range(N):\n",
    "    x = 2*random.random() - 1\n",
    "    y = 2*random.random() - 1\n",
    "    if math.sqrt(x**2 + y**2) <1:\n",
    "        inside_circle += 1\n",
    "print('Approxiation of pi = ', 4 * inside_circle/N)"
   ]
  },
  {
   "cell_type": "markdown",
   "id": "384d529b-12e7-4d1a-9e0f-57df7e4500b2",
   "metadata": {},
   "source": [
    "## A First Peek at Lists and Tuples"
   ]
  },
  {
   "cell_type": "markdown",
   "id": "0a8ac0d8-2c10-4221-b4ce-734d7369480a",
   "metadata": {},
   "source": [
    "A Python `list` object is a **mutable** collection of other objects. \n",
    "More generally, it is an example of a Python **sequence type** and hence has several operations in common with other sequences such as slicing, concatenation, indexing and so on. Practice working with the [list of sequence operations](https://docs.python.org/3/library/stdtypes.html#common-sequence-operations) !\n",
    "\n",
    "Other list methods of interest are `append`  \n",
    "\n",
    "A Python `tuple` is a collection of fixed length (or **arity**): it is immutable in that it cannot grow or shrink, and assignment to change one of the elements is not allowed. However, if some element is of a mutable type (like `list`), then it is possible *that element* in place by using an applicable method (like `append`).\n"
   ]
  },
  {
   "cell_type": "markdown",
   "id": "426ababe-3c78-4378-bb04-52275b8b0c2f",
   "metadata": {},
   "source": [
    "### Practice\n",
    "\n",
    "Recall how we had to write somewhat clunky code to count the number of occurrences of `Alice` in `Alice in Wonderland`. Use the constants below to simplify your code!"
   ]
  },
  {
   "cell_type": "code",
   "execution_count": null,
   "id": "a567bb7f-af1a-4a08-877b-e637bec36a8a",
   "metadata": {},
   "outputs": [],
   "source": [
    "CHAPTERS = ['I', 'II', 'III', 'IV', 'V', 'VI', 'VII', 'VIII', 'IX', 'X']\n",
    "CHAP_NUMS = list(range(1, 11))"
   ]
  },
  {
   "cell_type": "markdown",
   "id": "903bb91e-0da6-4eb1-a866-3edf43dba922",
   "metadata": {},
   "source": [
    "### Writing Code in Modules\n",
    "\n",
    "Use an IDE (or convert from `.ipynb` files) to create modules (`.py` files that contain Python code). For example, we can convert all the code in `hw1.ipynb` so that it is in a Python module `hw1.py`."
   ]
  },
  {
   "cell_type": "code",
   "execution_count": null,
   "id": "00f029a3-400d-4651-a76d-a29d152b02b4",
   "metadata": {},
   "outputs": [],
   "source": []
  }
 ],
 "metadata": {
  "kernelspec": {
   "display_name": "Python 3 (ipykernel)",
   "language": "python",
   "name": "python3"
  },
  "language_info": {
   "codemirror_mode": {
    "name": "ipython",
    "version": 3
   },
   "file_extension": ".py",
   "mimetype": "text/x-python",
   "name": "python",
   "nbconvert_exporter": "python",
   "pygments_lexer": "ipython3",
   "version": "3.11.4"
  }
 },
 "nbformat": 4,
 "nbformat_minor": 5
}
