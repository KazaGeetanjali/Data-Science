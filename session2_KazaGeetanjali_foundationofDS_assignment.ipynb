{
 "cells": [
  {
   "cell_type": "markdown",
   "id": "5d45ccb4-5390-45b7-a3bb-02fc191ffe17",
   "metadata": {},
   "source": [
    "# Session 2\n",
    "\n",
    "**Agenda:**\n",
    "\n",
    "1. Live Coding\n",
    "2. Exercises\n",
    "\n",
    "## Live Coding\n",
    "\n",
    "- Use Python shell, Jupyter notebook, and editor\n",
    "- Describe some of the data types: int, float, str, bool\n",
    "- Determine the **semi-perimeter** of a triangle with three sides\n",
    "- Use a conditional to check if the three sides actually do represent a triangle\n",
    "- Use a `for` loop to iterate over a `range`\n",
    "- A quick look at the `math` and `random` modules\n",
    "- Use a `for` loop to calculate successive approximations of $\\pi$:\n",
    "    - Archimedean approximation\n",
    "    - Madhava-Leibnitz-Gregory approximation\n",
    "- Use a `while` loop to approximate $\\pi$ with the M-L-G approximation correct to 3 decimals\n",
    "- Use a `for` loop to read lines from a text file. Count and print  the total number of characters and the total number of lines.\n",
    "\n",
    "## In-class Exercises\n",
    "\n",
    "1. Approximate $\\pi$ using the Nilakantha approximation\n",
    "2. Approximate $\\pi$ using the Monte Carlo darts method\n"
   ]
  },
  {
   "cell_type": "code",
   "execution_count": 2,
   "id": "cc289ccd-3762-48aa-920f-8d2a76fb4db3",
   "metadata": {
    "tags": []
   },
   "outputs": [
    {
     "data": {
      "text/plain": [
       "42"
      ]
     },
     "execution_count": 2,
     "metadata": {},
     "output_type": "execute_result"
    }
   ],
   "source": [
    "42"
   ]
  },
  {
   "cell_type": "code",
   "execution_count": 3,
   "id": "8a850265-5c82-49a9-9a86-f317676d467b",
   "metadata": {
    "tags": []
   },
   "outputs": [],
   "source": [
    "x = 42"
   ]
  },
  {
   "cell_type": "code",
   "execution_count": 4,
   "id": "56dc1b75-4fd2-4b59-aa2b-9581dc019d86",
   "metadata": {
    "tags": []
   },
   "outputs": [
    {
     "data": {
      "text/plain": [
       "42"
      ]
     },
     "execution_count": 4,
     "metadata": {},
     "output_type": "execute_result"
    }
   ],
   "source": [
    "x"
   ]
  },
  {
   "cell_type": "code",
   "execution_count": 5,
   "id": "eb444b87-4d76-4ea8-94db-828a6dd3dd4b",
   "metadata": {
    "tags": []
   },
   "outputs": [],
   "source": [
    "x = 2.35"
   ]
  },
  {
   "cell_type": "code",
   "execution_count": 6,
   "id": "01cf23ac-e9f6-4115-98f5-0685790c3b59",
   "metadata": {
    "tags": []
   },
   "outputs": [
    {
     "data": {
      "text/plain": [
       "2.35"
      ]
     },
     "execution_count": 6,
     "metadata": {},
     "output_type": "execute_result"
    }
   ],
   "source": [
    "x"
   ]
  },
  {
   "cell_type": "code",
   "execution_count": 7,
   "id": "7d0e0ff5-8dd8-461d-ba7a-4ddbd0510ea8",
   "metadata": {
    "tags": []
   },
   "outputs": [
    {
     "data": {
      "text/plain": [
       "27.35"
      ]
     },
     "execution_count": 7,
     "metadata": {},
     "output_type": "execute_result"
    }
   ],
   "source": [
    "x + 25"
   ]
  },
  {
   "cell_type": "code",
   "execution_count": 8,
   "id": "df3b44bb-aafc-47bb-be7e-7feb6d64d8f4",
   "metadata": {
    "tags": []
   },
   "outputs": [],
   "source": [
    "y = x + 25"
   ]
  },
  {
   "cell_type": "code",
   "execution_count": 9,
   "id": "d06a5520-ddae-45da-8d80-83bdb58fb993",
   "metadata": {
    "tags": []
   },
   "outputs": [
    {
     "data": {
      "text/plain": [
       "27.35"
      ]
     },
     "execution_count": 9,
     "metadata": {},
     "output_type": "execute_result"
    }
   ],
   "source": [
    "y"
   ]
  },
  {
   "cell_type": "code",
   "execution_count": 10,
   "id": "0369218f-941c-4615-8cb9-ededf6714b07",
   "metadata": {
    "tags": []
   },
   "outputs": [
    {
     "data": {
      "text/plain": [
       "6"
      ]
     },
     "execution_count": 10,
     "metadata": {},
     "output_type": "execute_result"
    }
   ],
   "source": [
    "27 // 4"
   ]
  },
  {
   "cell_type": "code",
   "execution_count": 11,
   "id": "07d27d93-3b4f-4e9f-86b5-6a2dab26729c",
   "metadata": {
    "tags": []
   },
   "outputs": [
    {
     "data": {
      "text/plain": [
       "3"
      ]
     },
     "execution_count": 11,
     "metadata": {},
     "output_type": "execute_result"
    }
   ],
   "source": [
    "27 % 4"
   ]
  },
  {
   "cell_type": "code",
   "execution_count": 12,
   "id": "cc569977-c3ba-42a1-8363-9ca194ec14bd",
   "metadata": {
    "tags": []
   },
   "outputs": [
    {
     "data": {
      "text/plain": [
       "False"
      ]
     },
     "execution_count": 12,
     "metadata": {},
     "output_type": "execute_result"
    }
   ],
   "source": [
    "x == 40"
   ]
  },
  {
   "cell_type": "code",
   "execution_count": 13,
   "id": "983a6eb2-ebf7-4eeb-b98c-bf5c926fe251",
   "metadata": {
    "tags": []
   },
   "outputs": [
    {
     "data": {
      "text/plain": [
       "False"
      ]
     },
     "execution_count": 13,
     "metadata": {},
     "output_type": "execute_result"
    }
   ],
   "source": [
    "x == 42"
   ]
  },
  {
   "cell_type": "code",
   "execution_count": 14,
   "id": "633e8cfe-4499-4bf5-888f-7777ac0e4728",
   "metadata": {
    "tags": []
   },
   "outputs": [
    {
     "data": {
      "text/plain": [
       "False"
      ]
     },
     "execution_count": 14,
     "metadata": {},
     "output_type": "execute_result"
    }
   ],
   "source": [
    "(x == 40) or (x > 25)"
   ]
  },
  {
   "cell_type": "markdown",
   "id": "ee86c58f-2a5d-414c-b2a1-c75d66456751",
   "metadata": {},
   "source": [
    "## Semi-perimeter of a triangle"
   ]
  },
  {
   "cell_type": "code",
   "execution_count": 15,
   "id": "72d11fbf-1218-4bf0-a42a-3460ca4088bd",
   "metadata": {
    "tags": []
   },
   "outputs": [],
   "source": [
    "x = 10\n",
    "y = 14\n",
    "z = 16"
   ]
  },
  {
   "cell_type": "code",
   "execution_count": 16,
   "id": "be1c6d76-654d-4b0b-9070-a04c33b72a2d",
   "metadata": {
    "tags": []
   },
   "outputs": [
    {
     "name": "stdout",
     "output_type": "stream",
     "text": [
      "perimeter\n"
     ]
    },
    {
     "data": {
      "text/plain": [
       "40"
      ]
     },
     "execution_count": 16,
     "metadata": {},
     "output_type": "execute_result"
    }
   ],
   "source": [
    "perimeter = (x + y + z)\n",
    "print ('perimeter')\n",
    "perimeter"
   ]
  },
  {
   "cell_type": "code",
   "execution_count": 17,
   "id": "2a4c685d-de82-4020-b95d-ab245ac8c824",
   "metadata": {
    "tags": []
   },
   "outputs": [],
   "source": [
    "side_1 = 5.6\n",
    "side_2 = 2.3\n",
    "side_3 = 6.8"
   ]
  },
  {
   "cell_type": "code",
   "execution_count": 18,
   "id": "19a7fc64-ffe2-4e68-8c60-9e3cc56c43ab",
   "metadata": {
    "tags": []
   },
   "outputs": [],
   "source": [
    "semi_perim = (side_1 + side_2 + side_3)/2"
   ]
  },
  {
   "cell_type": "code",
   "execution_count": 19,
   "id": "0fd8136c-74f1-43bb-9a84-8efc60c75b9f",
   "metadata": {
    "tags": []
   },
   "outputs": [
    {
     "data": {
      "text/plain": [
       "7.35"
      ]
     },
     "execution_count": 19,
     "metadata": {},
     "output_type": "execute_result"
    }
   ],
   "source": [
    "semi_perim"
   ]
  },
  {
   "cell_type": "code",
   "execution_count": 20,
   "id": "5681b349-eb6f-4602-8425-7c53f8fac30c",
   "metadata": {
    "tags": []
   },
   "outputs": [],
   "source": [
    "legal_triangle = (side_1 + side_2 > side_3) and (side_1 + side_3 > side_2) and (side_2 + side_3 > side_1)"
   ]
  },
  {
   "cell_type": "code",
   "execution_count": 21,
   "id": "9ecb6146-0897-49df-98c6-1d1aa70152cc",
   "metadata": {
    "tags": []
   },
   "outputs": [
    {
     "data": {
      "text/plain": [
       "True"
      ]
     },
     "execution_count": 21,
     "metadata": {},
     "output_type": "execute_result"
    }
   ],
   "source": [
    "legal_triangle"
   ]
  },
  {
   "cell_type": "code",
   "execution_count": 22,
   "id": "fbf35274-2020-4700-85ad-1ea7b5be56c4",
   "metadata": {
    "tags": []
   },
   "outputs": [],
   "source": [
    "side_1 = 12\n",
    "side_2 = 14\n",
    "side_3 = 12"
   ]
  },
  {
   "cell_type": "code",
   "execution_count": 23,
   "id": "4743dc60-05ea-417e-88cb-f52e44438584",
   "metadata": {
    "tags": []
   },
   "outputs": [],
   "source": [
    "if legal_triangle:\n",
    "    semi_perim = (side_1 + side_2 + side_3)/2\n",
    "else:\n",
    "    print(side_1, side_2, side_3, \"do not form a legal triangle\")"
   ]
  },
  {
   "cell_type": "code",
   "execution_count": 24,
   "id": "21d9a0df-b56c-412f-a4c4-baea93d0fa79",
   "metadata": {
    "tags": []
   },
   "outputs": [],
   "source": [
    "def semi_perimeter(side_1, side_2, side_3):\n",
    "    legal_triangle = ((side_1 + side_2 > side_3) and \n",
    "                      (side_1 + side_3 > side_2) and \n",
    "                      (side_2 + side_3 > side_1))\n",
    "    if legal_triangle:\n",
    "        print(side_1, side_2, side_3, \"do not form a legal triangle\")\n",
    "    else:\n",
    "        print(side_1, side_2, side_3, \"forms a legal triangle\")"
   ]
  },
  {
   "cell_type": "code",
   "execution_count": 25,
   "id": "19afbf58-e323-4dbd-bc9c-e8ecb427f6ac",
   "metadata": {
    "tags": []
   },
   "outputs": [
    {
     "name": "stdout",
     "output_type": "stream",
     "text": [
      "5.6 4.5 8.4 do not form a legal triangle\n"
     ]
    }
   ],
   "source": [
    "z = semi_perimeter(5.6, 4.5, 8.4)"
   ]
  },
  {
   "cell_type": "code",
   "execution_count": 26,
   "id": "5c7d3f53-4502-472d-b90b-a32d0bb4512e",
   "metadata": {
    "tags": []
   },
   "outputs": [],
   "source": [
    "z"
   ]
  },
  {
   "cell_type": "code",
   "execution_count": 27,
   "id": "a224f344-e355-42ad-8e7b-1b74db3ac7e2",
   "metadata": {
    "tags": []
   },
   "outputs": [
    {
     "data": {
      "text/plain": [
       "NoneType"
      ]
     },
     "execution_count": 27,
     "metadata": {},
     "output_type": "execute_result"
    }
   ],
   "source": [
    "type(z)"
   ]
  },
  {
   "cell_type": "code",
   "execution_count": 28,
   "id": "7f3931fd-8e31-469f-9327-a9df296c0116",
   "metadata": {
    "tags": []
   },
   "outputs": [
    {
     "data": {
      "text/plain": [
       "int"
      ]
     },
     "execution_count": 28,
     "metadata": {},
     "output_type": "execute_result"
    }
   ],
   "source": [
    "type(side_1)"
   ]
  },
  {
   "cell_type": "code",
   "execution_count": 29,
   "id": "f44bde77-f030-4625-8ad7-dcdfb6b14449",
   "metadata": {
    "tags": []
   },
   "outputs": [
    {
     "name": "stdout",
     "output_type": "stream",
     "text": [
      "Hello\n"
     ]
    }
   ],
   "source": [
    "print('Hello')"
   ]
  },
  {
   "cell_type": "code",
   "execution_count": 56,
   "id": "9f02ca08-1850-4d4f-8ea4-2bfc5d29d496",
   "metadata": {},
   "outputs": [
    {
     "name": "stdout",
     "output_type": "stream",
     "text": [
      "Hello 0\n",
      "Hello 1\n",
      "Hello 2\n",
      "Hello 3\n",
      "Hello 4\n",
      "Hello 5\n",
      "Hello 6\n",
      "Hello 7\n",
      "Hello 8\n",
      "Hello 9\n",
      "Hello 10\n",
      "Hello 11\n",
      "Hello 12\n",
      "Hello 13\n",
      "Hello 14\n"
     ]
    }
   ],
   "source": [
    "for i in range(15):\n",
    "    print('Hello', i)"
   ]
  },
  {
   "cell_type": "code",
   "execution_count": 30,
   "id": "cd335252-4581-4dc5-b632-4a7209d6ed8a",
   "metadata": {
    "tags": []
   },
   "outputs": [],
   "source": [
    "import math\n",
    "import random"
   ]
  },
  {
   "cell_type": "code",
   "execution_count": 31,
   "id": "868839f8-7618-4b57-a143-74a7a7abb293",
   "metadata": {
    "tags": []
   },
   "outputs": [
    {
     "data": {
      "text/plain": [
       "['__doc__',\n",
       " '__loader__',\n",
       " '__name__',\n",
       " '__package__',\n",
       " '__spec__',\n",
       " 'acos',\n",
       " 'acosh',\n",
       " 'asin',\n",
       " 'asinh',\n",
       " 'atan',\n",
       " 'atan2',\n",
       " 'atanh',\n",
       " 'cbrt',\n",
       " 'ceil',\n",
       " 'comb',\n",
       " 'copysign',\n",
       " 'cos',\n",
       " 'cosh',\n",
       " 'degrees',\n",
       " 'dist',\n",
       " 'e',\n",
       " 'erf',\n",
       " 'erfc',\n",
       " 'exp',\n",
       " 'exp2',\n",
       " 'expm1',\n",
       " 'fabs',\n",
       " 'factorial',\n",
       " 'floor',\n",
       " 'fmod',\n",
       " 'frexp',\n",
       " 'fsum',\n",
       " 'gamma',\n",
       " 'gcd',\n",
       " 'hypot',\n",
       " 'inf',\n",
       " 'isclose',\n",
       " 'isfinite',\n",
       " 'isinf',\n",
       " 'isnan',\n",
       " 'isqrt',\n",
       " 'lcm',\n",
       " 'ldexp',\n",
       " 'lgamma',\n",
       " 'log',\n",
       " 'log10',\n",
       " 'log1p',\n",
       " 'log2',\n",
       " 'modf',\n",
       " 'nan',\n",
       " 'nextafter',\n",
       " 'perm',\n",
       " 'pi',\n",
       " 'pow',\n",
       " 'prod',\n",
       " 'radians',\n",
       " 'remainder',\n",
       " 'sin',\n",
       " 'sinh',\n",
       " 'sqrt',\n",
       " 'tan',\n",
       " 'tanh',\n",
       " 'tau',\n",
       " 'trunc',\n",
       " 'ulp']"
      ]
     },
     "execution_count": 31,
     "metadata": {},
     "output_type": "execute_result"
    }
   ],
   "source": [
    "dir(math)"
   ]
  },
  {
   "cell_type": "code",
   "execution_count": 32,
   "id": "0d3f26f3-f424-4bcd-a9a2-787f60b5fdcb",
   "metadata": {
    "tags": []
   },
   "outputs": [
    {
     "data": {
      "text/plain": [
       "3.141592653589793"
      ]
     },
     "execution_count": 32,
     "metadata": {},
     "output_type": "execute_result"
    }
   ],
   "source": [
    "math.pi"
   ]
  },
  {
   "cell_type": "code",
   "execution_count": 33,
   "id": "543f165b-2065-441c-ae89-c6150ee51853",
   "metadata": {
    "tags": []
   },
   "outputs": [
    {
     "data": {
      "text/plain": [
       "1.0"
      ]
     },
     "execution_count": 33,
     "metadata": {},
     "output_type": "execute_result"
    }
   ],
   "source": [
    "math.sin(math.pi/2)"
   ]
  },
  {
   "cell_type": "markdown",
   "id": "b1bab0e0-73a4-4e7a-8e9e-fca5e4ae1c6c",
   "metadata": {},
   "source": [
    "## $\\pi$ approximation with the M-G-L series"
   ]
  },
  {
   "cell_type": "code",
   "execution_count": 34,
   "id": "ca1095d6-374f-4016-b5f2-f48c529a588d",
   "metadata": {
    "tags": []
   },
   "outputs": [],
   "source": [
    "n_terms = 1\n",
    "pi_approx = 0.0\n",
    "denom = 1\n",
    "sign = 1\n",
    "for i in range(1, n_terms+1):\n",
    "    pi_approx = pi_approx + sign/denom\n",
    "    sign = -sign\n",
    "    denom = denom + 2\n",
    "\n",
    "pi_approx = 4*pi_approx"
   ]
  },
  {
   "cell_type": "code",
   "execution_count": 35,
   "id": "85dcbb8f-4493-46c5-80af-d40a25cccb5f",
   "metadata": {
    "tags": []
   },
   "outputs": [
    {
     "data": {
      "text/plain": [
       "4.0"
      ]
     },
     "execution_count": 35,
     "metadata": {},
     "output_type": "execute_result"
    }
   ],
   "source": [
    "pi_approx"
   ]
  },
  {
   "cell_type": "code",
   "execution_count": 36,
   "id": "2bd60b14-8855-4a17-a0e5-3a4297079301",
   "metadata": {
    "tags": []
   },
   "outputs": [],
   "source": [
    "n_terms = 11\n",
    "pi_approx = 0.0\n",
    "denom = 1\n",
    "sign = 1\n",
    "for i in range(1, n_terms+1):\n",
    "    pi_approx = pi_approx + sign/denom\n",
    "    sign = -sign\n",
    "    denom = denom + 2\n",
    "\n",
    "pi_approx = 4*pi_approx"
   ]
  },
  {
   "cell_type": "code",
   "execution_count": 37,
   "id": "d868431f-438d-4276-977e-2e7b678393b5",
   "metadata": {
    "tags": []
   },
   "outputs": [
    {
     "data": {
      "text/plain": [
       "3.232315809405594"
      ]
     },
     "execution_count": 37,
     "metadata": {},
     "output_type": "execute_result"
    }
   ],
   "source": [
    "pi_approx"
   ]
  },
  {
   "cell_type": "code",
   "execution_count": 38,
   "id": "0368598b-d7bf-4b98-8b12-3db2f97ea486",
   "metadata": {
    "tags": []
   },
   "outputs": [],
   "source": [
    "n_terms = 20250\n",
    "pi_approx = 0.0\n",
    "denom = 1\n",
    "sign = 1\n",
    "for i in range(1, n_terms+1):\n",
    "    pi_approx = pi_approx + sign/denom\n",
    "    sign = -sign\n",
    "    denom = denom + 2\n",
    "\n",
    "pi_approx = 4*pi_approx"
   ]
  },
  {
   "cell_type": "code",
   "execution_count": 39,
   "id": "c7e50f97-c651-471a-8d1f-8b244d2d2a09",
   "metadata": {
    "tags": []
   },
   "outputs": [
    {
     "data": {
      "text/plain": [
       "3.141543270873774"
      ]
     },
     "execution_count": 39,
     "metadata": {},
     "output_type": "execute_result"
    }
   ],
   "source": [
    "pi_approx"
   ]
  },
  {
   "cell_type": "code",
   "execution_count": 69,
   "id": "ba7a1fc7-c5bf-46f1-8b5f-26e9772e2a79",
   "metadata": {},
   "outputs": [
    {
     "data": {
      "text/plain": [
       "3.141592653589793"
      ]
     },
     "execution_count": 69,
     "metadata": {},
     "output_type": "execute_result"
    }
   ],
   "source": [
    "math.pi"
   ]
  },
  {
   "cell_type": "markdown",
   "id": "43e4bde6-800a-4d5b-af3c-2390bce1deea",
   "metadata": {},
   "source": [
    "## Nilakantha Approximation of $\\pi$"
   ]
  },
  {
   "cell_type": "code",
   "execution_count": 40,
   "id": "987d902e-57ac-4bfe-b775-8f3f370c1c54",
   "metadata": {
    "tags": []
   },
   "outputs": [],
   "source": [
    "import math\n",
    "import random"
   ]
  },
  {
   "cell_type": "code",
   "execution_count": 49,
   "id": "0f1abf04-fa15-41f2-bdec-c40f7d9e7fe0",
   "metadata": {
    "tags": []
   },
   "outputs": [
    {
     "name": "stdout",
     "output_type": "stream",
     "text": [
      "The approximate value of Nilakantha approximation is 3.1666666666666665\n"
     ]
    }
   ],
   "source": [
    "n_terms = 1\n",
    "pi = 3.0\n",
    "denominator = 2\n",
    "sign = 1\n",
    "for i in range(n_terms):\n",
    "    pi = pi + sign * (4/(denominator * (denominator + 1) * (denominator + 2)))\n",
    "    sign = -sign\n",
    "    denominator = denominator + 2\n",
    "print(\"The approximate value of Nilakantha approximation is\", pi)"
   ]
  },
  {
   "cell_type": "code",
   "execution_count": 50,
   "id": "14ebaec6-3b5d-483f-9214-a911ccc6349a",
   "metadata": {
    "tags": []
   },
   "outputs": [
    {
     "name": "stdout",
     "output_type": "stream",
     "text": [
      "The approximate value of Nilakantha approximation is 3.1333333333333333\n"
     ]
    }
   ],
   "source": [
    "n_terms = 2\n",
    "pi = 3.0\n",
    "denominator = 2\n",
    "sign = 1\n",
    "for i in range(n_terms):\n",
    "    pi = pi + sign * (4/(denominator * (denominator + 1) * (denominator + 2)))\n",
    "    sign = -sign\n",
    "    denominator = denominator + 2\n",
    "print(\"The approximate value of Nilakantha approximation is\", pi)"
   ]
  },
  {
   "cell_type": "code",
   "execution_count": 51,
   "id": "addf2ba7-7d20-401b-b782-454b3fbf7865",
   "metadata": {
    "tags": []
   },
   "outputs": [
    {
     "name": "stdout",
     "output_type": "stream",
     "text": [
      "The approximate value of Nilakantha approximation is 3.145238095238095\n"
     ]
    }
   ],
   "source": [
    "n_terms = 3\n",
    "pi = 3.0\n",
    "denominator = 2\n",
    "sign = 1\n",
    "for i in range(n_terms):\n",
    "    pi = pi + sign * (4/(denominator * (denominator + 1) * (denominator + 2)))\n",
    "    sign = -sign\n",
    "    denominator = denominator + 2\n",
    "print(\"The approximate value of Nilakantha approximation is\", pi)"
   ]
  }
 ],
 "metadata": {
  "kernelspec": {
   "display_name": "Python 3 (ipykernel)",
   "language": "python",
   "name": "python3"
  },
  "language_info": {
   "codemirror_mode": {
    "name": "ipython",
    "version": 3
   },
   "file_extension": ".py",
   "mimetype": "text/x-python",
   "name": "python",
   "nbconvert_exporter": "python",
   "pygments_lexer": "ipython3",
   "version": "3.11.4"
  }
 },
 "nbformat": 4,
 "nbformat_minor": 5
}
