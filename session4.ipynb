{
 "cells": [
  {
   "cell_type": "markdown",
   "id": "4036eebe-42e8-48a1-b274-b01e5f4a4998",
   "metadata": {},
   "source": [
    "# Session 4"
   ]
  },
  {
   "cell_type": "markdown",
   "id": "ae562fa8-8aa8-4c67-89ea-f1c872698bc2",
   "metadata": {},
   "source": [
    "1. In-Class Practice\n",
    "2. Session Exercises\n",
    "   "
   ]
  },
  {
   "cell_type": "markdown",
   "id": "e5598552-3dba-4a77-9cf6-becf834fc64f",
   "metadata": {},
   "source": [
    "### Practice\n",
    "\n",
    "Explain which of these expressions evaluates to `True` \n",
    "if and only if `year` is a leap year:\n",
    "\n",
    "```python\n",
    "(year % 4 == 0) and ((year %100 != 0) or (year % 400 == 0))\n",
    "```\n",
    "\n",
    "```python\n",
    "(year % 4 == 0) and (year %100 != 0) or (year % 400 == 0)\n",
    "```\n",
    "\n"
   ]
  },
  {
   "cell_type": "markdown",
   "id": "f10f176d-d8f7-492f-b1ef-91e8126678ad",
   "metadata": {},
   "source": [
    "## String Slicing\n",
    "\n",
    "`a_string[i:j]` is the substring of `a_string` that starts at index `i` and ends and index `j-1`.\n",
    "\n",
    "The slice notation allows for \n",
    "\n",
    "- the starting index to be implicitly 0 (as in `a_string[:j]`) or\n",
    "- for the ending index to be implicitly `len(a_string)` (as in `a_string[i:]`)\n",
    "\n",
    "It is also possible to provide an *optional* **stride** value (an integer) that provides the increment from one index to the next as the sliced string is being assembled, e.g. `a_string[i:j:k]` is the substring made up of the concatenation of symbols of a_string indexed by `i`, `i+ k`, `i+ 2*k`, ..., `i+ n*k` such that\n",
    "> `i + n*k < j <= i + (n+1)*k`"
   ]
  },
  {
   "cell_type": "markdown",
   "id": "b86ac7f5-1522-4581-aca7-40ec4ac59fee",
   "metadata": {},
   "source": [
    "### String Methods\n",
    "\n",
    "Check them out using `help(str)` or by looking up the documentation\n",
    "\n",
    "Various useful functions that can applied to strings include:\n",
    "\n",
    "- `capitalize`\n",
    "- `count`: understand the signature!\n",
    "- `isdigit`\n",
    "- `startswith`\n",
    "\n",
    "etc. "
   ]
  },
  {
   "cell_type": "markdown",
   "id": "0b3ea882-6bb0-4e49-884f-b5ca8d5c9f04",
   "metadata": {},
   "source": [
    "### Practice\n",
    "\n",
    "Experiment with opening text files and with string methods, using `Alice in Wonderland` as an example."
   ]
  },
  {
   "cell_type": "markdown",
   "id": "dd198b91-c3ba-456d-8c20-85969ff36de0",
   "metadata": {},
   "source": [
    "### Practice\n",
    "\n",
    "Define a function that takes as argument a non-negative integer and returns the\n",
    "sum of the **individual digits** of its argument."
   ]
  },
  {
   "cell_type": "code",
   "execution_count": null,
   "id": "e29e257d-3f30-467c-ade3-7a2b54f3ee10",
   "metadata": {},
   "outputs": [],
   "source": [
    "def sum_of_digits(n):\n",
    "    \"\"\"Returns the sum of the digits on n\n",
    "\n",
    "    Args:\n",
    "        n (int): non-negative integer\n",
    "\n",
    "    Returns:\n",
    "        int\n",
    "    \"\"\"\n",
    "    pass"
   ]
  },
  {
   "cell_type": "markdown",
   "id": "4cc954d1-e851-4ff4-a64c-fb1b9a23d547",
   "metadata": {},
   "source": [
    "### Practice\n",
    "\n",
    "From Wikipedia:\n",
    "\n",
    "> The Collatz conjecture is a conjecture in mathematics that concerns a sequence\n",
    "    defined as follows: start with any positive integer n. Then each term is obtained from\n",
    "    the previous term as follows: if the previous term is even, the next term is one half\n",
    "    of the previous term. If the previous term is odd, the next term is 3 times the previous       term plus 1. The conjecture is that no matter what value of n, the sequence\n",
    "    will always reach 1.\n",
    "\n",
    "Ask the user to repeatedly input a positive integer $x$, and determine the length of $x$'s Collatz sequence (which starts at $x$ and ends at $1$). Stop when the user inputs 0. You may assume that the user *will** always input a non-negative integer: understand the errors that may be flagged if this convention is violated! "
   ]
  },
  {
   "cell_type": "markdown",
   "id": "325abc7a-8d03-4e30-bd6d-82747ca5de78",
   "metadata": {},
   "source": [
    "### Practice\n",
    "\n",
    "Use the `random` module to compute the approximate value of $\\pi$.\n",
    "\n",
    "**Intution:** Throw darts randomly (but uniformly) in a square with side length 2. Count the proportion of darts that land in the **incircle** for the square (i.e., the inscribed circle)."
   ]
  },
  {
   "cell_type": "markdown",
   "id": "384d529b-12e7-4d1a-9e0f-57df7e4500b2",
   "metadata": {},
   "source": []
  },
  {
   "cell_type": "markdown",
   "id": "12cedf08-65bd-4baf-b299-f8917c4c2651",
   "metadata": {},
   "source": [
    "### Exercises (For Submission)\n",
    "\n",
    "1. Write a function that reads a text file in the same directory as the program (e.g., this notebook). It is given a second argument, a substring, and should print the percentage of lines that contain that substring.\n",
    "\n",
    "> The builtin `open` function can be used to open a text file for reading from or\n",
    "writing into the file. The resulting object allows us to get an **iterable collection** of **lines** in the file.\n",
    "\n",
    "**Caution:** Be sure to `close` an open file after you are done processing it."
   ]
  },
  {
   "cell_type": "code",
   "execution_count": null,
   "id": "3b57fad8-eded-4bbe-b4ca-21554db49ca4",
   "metadata": {},
   "outputs": [],
   "source": [
    "def line_percent_occurrence(filename, sub):\n",
    "    \"\"\"Returns the percentage of lines  in a text file containing substring\n",
    "\n",
    "    Args:\n",
    "        filename (str): text file in the same folder as this module\n",
    "        sub (str): substring\n",
    "\n",
    "    Returns:\n",
    "        int\n",
    "    \"\"\"\n",
    "    pass"
   ]
  },
  {
   "cell_type": "code",
   "execution_count": null,
   "id": "8321a392",
   "metadata": {},
   "outputs": [],
   "source": []
  },
  {
   "cell_type": "markdown",
   "id": "86465a84-397e-4d22-a6de-7cf326c415e3",
   "metadata": {},
   "source": [
    "2. There are ten \"chapters\" in `Alice In Wonderland` indicated by lines beginning with Roman numerals `I`, `II`, ... `X`. Write a function that prints the number of times `Alice` is referenced in each chapter. The output should consist of separate lines with the chapter number (as an integer between 1 and 10) followed by the count in that chapter. Write this function as a general function that can count the number of occurrences of any given character in the novel (see the signature below)."
   ]
  },
  {
   "cell_type": "code",
   "execution_count": null,
   "id": "c51e0b76-451f-4ed6-9f33-584906c8ebdd",
   "metadata": {},
   "outputs": [],
   "source": [
    "def num_occurrences(character):\n",
    "    \"\"\"Prints a chapter-by-chapter count of the number of times character appears.\n",
    "\n",
    "    This counting is for the text version of `Alice In Wonderland`.\n",
    "\n",
    "    Args:\n",
    "        character (str): a character like `Alice`, `Mad Hatter` etc.\n",
    "    \"\"\"\n",
    "    pass\n",
    "    "
   ]
  }
 ],
 "metadata": {
  "kernelspec": {
   "display_name": "Python 3 (ipykernel)",
   "language": "python",
   "name": "python3"
  },
  "language_info": {
   "codemirror_mode": {
    "name": "ipython",
    "version": 3
   },
   "file_extension": ".py",
   "mimetype": "text/x-python",
   "name": "python",
   "nbconvert_exporter": "python",
   "pygments_lexer": "ipython3",
   "version": "3.11.4"
  }
 },
 "nbformat": 4,
 "nbformat_minor": 5
}
