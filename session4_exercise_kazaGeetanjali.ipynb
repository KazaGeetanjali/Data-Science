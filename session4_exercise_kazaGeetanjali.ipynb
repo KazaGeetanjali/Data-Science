{
 "cells": [
  {
   "cell_type": "code",
   "execution_count": 64,
   "id": "cac0748b",
   "metadata": {},
   "outputs": [],
   "source": [
    "def line_percent_occurrence(filename, sub):\n",
    "    \"\"\"Returns the percentage of lines  in a text file containing substring\n",
    "\n",
    "    Args:\n",
    "        filename (str): text file in the same folder as this module\n",
    "        sub (str): substring\n",
    "\n",
    "    Returns:\n",
    "        int\n",
    "    \n",
    "    >>> line_percent_occurrence(\"alice_wonderland.txt\", \"Alice\")\n",
    "    10.717100078802206\n",
    "    \"\"\"\n",
    "    #open the file in read mode\n",
    "    f = open(filename, 'r') \n",
    "    #assign the counter variables to 0\n",
    "    line_counter = 0\n",
    "    subString_line_counter = 0\n",
    "    #run the for loop for counting the total no of lines and occurance of the character in the line\n",
    "    for line in f:\n",
    "        line_counter = line_counter +1\n",
    "        if line.find(sub) >0:\n",
    "             subString_line_counter += 1  \n",
    "    #close the file\n",
    "    f.close()\n",
    "    #return the percentage expression\n",
    "    return (subString_line_counter/line_counter) * 100"
   ]
  },
  {
   "cell_type": "code",
   "execution_count": 65,
   "id": "1d9c56d7",
   "metadata": {},
   "outputs": [
    {
     "data": {
      "text/plain": [
       "TestResults(failed=0, attempted=2)"
      ]
     },
     "execution_count": 65,
     "metadata": {},
     "output_type": "execute_result"
    }
   ],
   "source": [
    "import doctest\n",
    "doctest.testmod()"
   ]
  },
  {
   "cell_type": "code",
   "execution_count": 54,
   "id": "58fa52f5",
   "metadata": {},
   "outputs": [],
   "source": [
    "def num_occurrences(character):\n",
    "    \"\"\"Prints a chapter-by-chapter count of the number of times character appears.\n",
    "\n",
    "    This counting is for the text version of `Alice In Wonderland`.\n",
    "\n",
    "    Args:\n",
    "        character (str): a character like `Alice`, `Mad Hatter`, etc.\n",
    "        \n",
    "    >>> num_occurrences(\"Alice\")\n",
    "    Chapter   Count     \n",
    "    1         21        \n",
    "    2         13        \n",
    "    3         15        \n",
    "    4         20        \n",
    "    5         18        \n",
    "    6         19        \n",
    "    7         11        \n",
    "    8         31        \n",
    "    9         5         \n",
    "    10        13        \n",
    "    \"\"\"\n",
    "    #initialize the counter variables \n",
    "    chap_count = {}\n",
    "    current_chapter = None\n",
    "    #open the file in read mode\n",
    "    file = open('alice_wonderland.txt', 'r')\n",
    "    #checking the chapter\n",
    "    with file as file_alice:\n",
    "        for line in file_alice:\n",
    "            if line.startswith(\"I--\"):\n",
    "                current_chapter = \"1\"\n",
    "            elif line.startswith(\"II--\"):\n",
    "                current_chapter = \"2\"\n",
    "            elif line.startswith(\"III--\"):\n",
    "                current_chapter = \"3\"\n",
    "            elif line.startswith(\"IV--\"):\n",
    "                current_chapter = \"4\"\n",
    "            elif line.startswith(\"V--\"):\n",
    "                current_chapter = \"5\"\n",
    "            elif line.startswith(\"VI--\"):\n",
    "                current_chapter = \"6\"\n",
    "            elif line.startswith(\"VII--\"):\n",
    "                current_chapter = \"7\"\n",
    "            elif line.startswith(\"VIII--\"):\n",
    "                current_chapter = \"8\"\n",
    "            elif line.startswith(\"IX--\"):\n",
    "                current_chapter = \"9\"\n",
    "            elif line.startswith(\"X--\"):\n",
    "                current_chapter = \"10\"\n",
    "            #count the values\n",
    "            if current_chapter is not None and character in line:\n",
    "                chap_count.setdefault(current_chapter, 0)\n",
    "                chap_count[current_chapter] += 1\n",
    "    #print the chapter and its respective count\n",
    "    print(f'{\"Chapter\":<10}{\"Count\":<10}')\n",
    "    for chapter, count in chap_count.items():\n",
    "        print(f'{chapter:<10}{count:<10}')\n",
    "    #close the file\n",
    "    file.close()"
   ]
  },
  {
   "cell_type": "code",
   "execution_count": 55,
   "id": "44b403e5",
   "metadata": {},
   "outputs": [
    {
     "data": {
      "text/plain": [
       "TestResults(failed=0, attempted=2)"
      ]
     },
     "execution_count": 55,
     "metadata": {},
     "output_type": "execute_result"
    }
   ],
   "source": [
    "import doctest\n",
    "doctest.testmod()"
   ]
  },
  {
   "cell_type": "code",
   "execution_count": null,
   "id": "79a26069",
   "metadata": {},
   "outputs": [],
   "source": []
  }
 ],
 "metadata": {
  "kernelspec": {
   "display_name": "Python 3 (ipykernel)",
   "language": "python",
   "name": "python3"
  },
  "language_info": {
   "codemirror_mode": {
    "name": "ipython",
    "version": 3
   },
   "file_extension": ".py",
   "mimetype": "text/x-python",
   "name": "python",
   "nbconvert_exporter": "python",
   "pygments_lexer": "ipython3",
   "version": "3.11.4"
  }
 },
 "nbformat": 4,
 "nbformat_minor": 5
}
